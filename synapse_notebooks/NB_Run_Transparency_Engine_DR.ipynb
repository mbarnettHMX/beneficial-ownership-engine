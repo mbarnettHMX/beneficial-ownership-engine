{
  "cells": [
    {
      "cell_type": "code",
      "source": [
        "%%configure -f\r\n",
        "{\r\n",
        "    \"conf\":\r\n",
        "    {\r\n",
        "        \"spark.sql.shuffle.partitions\": 64,\r\n",
        "        \"spark.sql.broadcastTimeout\": 14400,\r\n",
        "        \"spark.port.maxRetries\": 100,\r\n",
        "        \"spark.executor.allowSparkContext\": \"true\"\r\n",
        "\r\n",
        "    }\r\n",
        "}"
      ],
      "outputs": [
        {
          "output_type": "display_data",
          "data": {
            "application/vnd.livy.statement-meta+json": {
              "spark_pool": null,
              "session_id": "4",
              "statement_id": -1,
              "state": "finished",
              "livy_statement_state": "available",
              "queued_time": "2023-09-25T02:34:18.9965366Z",
              "session_start_time": "2023-09-25T02:34:19.066079Z",
              "execution_start_time": "2023-09-25T02:37:49.1221637Z",
              "execution_finish_time": "2023-09-25T02:37:49.1223774Z",
              "spark_jobs": null,
              "parent_msg_id": "dea0f31d-2dcc-4a7c-99cf-b050774cf91b"
            },
            "text/plain": "StatementMeta(, 4, -1, Finished, Available)"
          },
          "metadata": {}
        }
      ],
      "execution_count": 1,
      "metadata": {
        "jupyter": {
          "source_hidden": false,
          "outputs_hidden": false
        },
        "nteract": {
          "transient": {
            "deleting": false
          }
        }
      }
    },
    {
      "cell_type": "code",
      "source": [
        "# Import from Whl\r\n",
        "\r\n",
        "from typing import Dict\r\n",
        "from transparency_engine.containers import ContainerKeys, build_container\r\n",
        "from transparency_engine.io.data_handler import DataHandler, DataHandlerModes\r\n",
        "from transparency_engine.pipeline import TransparencyPipeline\r\n",
        "from transparency_engine.typing import PipelineSteps\r\n"
      ],
      "outputs": [
        {
          "output_type": "display_data",
          "data": {
            "application/vnd.livy.statement-meta+json": {
              "spark_pool": "defaultSpark32",
              "session_id": "4",
              "statement_id": 2,
              "state": "finished",
              "livy_statement_state": "available",
              "queued_time": "2023-09-25T02:34:19.0000107Z",
              "session_start_time": null,
              "execution_start_time": "2023-09-25T02:38:10.9260251Z",
              "execution_finish_time": "2023-09-25T02:38:13.8171994Z",
              "spark_jobs": null,
              "parent_msg_id": "41234a7d-439f-44d2-bfe2-07369f5f4878"
            },
            "text/plain": "StatementMeta(defaultSpark32, 4, 2, Finished, Available)"
          },
          "metadata": {}
        },
        {
          "output_type": "stream",
          "name": "stderr",
          "text": [
            "<frozen importlib._bootstrap>:219: RuntimeWarning: scipy._lib.messagestream.MessageStream size changed, may indicate binary incompatibility. Expected 56 from C header, got 64 from PyObject\n"
          ]
        }
      ],
      "execution_count": 2,
      "metadata": {}
    },
    {
      "cell_type": "markdown",
      "source": [
        "### Manually Update SubFolderpath for This Run"
      ],
      "metadata": {
        "nteract": {
          "transient": {
            "deleting": false
          }
        }
      }
    },
    {
      "cell_type": "code",
      "source": [
        "# MANUALLY UPDATE FOLDERPATH\r\n",
        "subfolderpath = 'BeneficialOwnershipModel/2023-09-24'\r\n",
        "datecountry = 'DR20230924'\r\n",
        "storagename = 'beowneu2datalake04'\r\n"
      ],
      "outputs": [
        {
          "output_type": "display_data",
          "data": {
            "application/vnd.livy.statement-meta+json": {
              "spark_pool": "defaultSpark32",
              "session_id": "4",
              "statement_id": 3,
              "state": "finished",
              "livy_statement_state": "available",
              "queued_time": "2023-09-25T02:34:19.0006605Z",
              "session_start_time": null,
              "execution_start_time": "2023-09-25T02:38:13.9562601Z",
              "execution_finish_time": "2023-09-25T02:38:14.1116897Z",
              "spark_jobs": null,
              "parent_msg_id": "f4685bb7-4356-4d78-bae6-dc2ffe654f86"
            },
            "text/plain": "StatementMeta(defaultSpark32, 4, 3, Finished, Available)"
          },
          "metadata": {}
        }
      ],
      "execution_count": 3,
      "metadata": {
        "jupyter": {
          "source_hidden": false,
          "outputs_hidden": false
        },
        "nteract": {
          "transient": {
            "deleting": false
          }
        }
      }
    },
    {
      "cell_type": "markdown",
      "source": [
        "## Pipeline Configurations"
      ],
      "metadata": {
        "nteract": {
          "transient": {
            "deleting": false
          }
        }
      }
    },
    {
      "cell_type": "code",
      "source": [
        "pipeline_config = {\r\n",
        "    \"name\": \"Transparency Engine Pipeline\",\r\n",
        "    \"description\": \"Transparency Engine using open or customer data\",\r\n",
        "    \"storage\": {\r\n",
        "        \"type\": \"hive\",\r\n",
        "        \"root\": f\"BeneficialOwnership{datecountry}\"\r\n",
        "    },\r\n",
        "    \"steps\": [\r\n",
        "        \"prep\",\r\n",
        "        \"individual_link_prediction\",\r\n",
        "        \"individual_link_filtering\",\r\n",
        "        \"macro_link_prediction\",\r\n",
        "        \"macro_link_filtering\",\r\n",
        "        \"scoring\",\r\n",
        "        \"report\"\r\n",
        "    ]\r\n",
        "}\r\n"
      ],
      "outputs": [
        {
          "output_type": "display_data",
          "data": {
            "application/vnd.livy.statement-meta+json": {
              "spark_pool": "defaultSpark32",
              "session_id": "4",
              "statement_id": 4,
              "state": "finished",
              "livy_statement_state": "available",
              "queued_time": "2023-09-25T02:34:19.0013527Z",
              "session_start_time": null,
              "execution_start_time": "2023-09-25T02:38:14.2465694Z",
              "execution_finish_time": "2023-09-25T02:38:14.4070451Z",
              "spark_jobs": null,
              "parent_msg_id": "e5df282d-b4a7-4af0-8c53-09bd83388084"
            },
            "text/plain": "StatementMeta(defaultSpark32, 4, 4, Finished, Available)"
          },
          "metadata": {}
        }
      ],
      "execution_count": 4,
      "metadata": {
        "jupyter": {
          "source_hidden": false,
          "outputs_hidden": false
        },
        "nteract": {
          "transient": {
            "deleting": false
          }
        }
      }
    },
    {
      "cell_type": "code",
      "source": [
        "step_config = {\r\n",
        "    \"steps\": {\r\n",
        "        \"prep\": [\r\n",
        "            {\r\n",
        "                \"name\": \"activity\",\r\n",
        "                \"type\": \"dynamic\",\r\n",
        "                \"path\": f\"abfss://curated@{storagename}.dfs.core.windows.net/{subfolderpath}/activity.csv\",\r\n",
        "                \"steps\": [\r\n",
        "                    \"load\",\r\n",
        "                    \"preprocess\"\r\n",
        "                ],\r\n",
        "                \"config\": {}\r\n",
        "            },\r\n",
        "            {\r\n",
        "                \"name\": \"contact\",\r\n",
        "                \"type\": \"static\",\r\n",
        "                \"path\": f\"abfss://curated@{storagename}.dfs.core.windows.net/{subfolderpath}/contact.csv\",\r\n",
        "                \"steps\": [\r\n",
        "                    \"load\",\r\n",
        "                    \"fuzzy_match\",\r\n",
        "                    \"preprocess\"\r\n",
        "                ],\r\n",
        "                \"fuzzy_match_on\": [\r\n",
        "                    {\r\n",
        "                        \"name\": \"name\",\r\n",
        "                        \"config\": {\r\n",
        "                            \"min_similarity\": 0.8\r\n",
        "                        }\r\n",
        "                    },\r\n",
        "                    {\r\n",
        "                        \"name\": \"address\",\r\n",
        "                        \"config\": {\r\n",
        "                            \"min_similarity\": 0.8\r\n",
        "                        }\r\n",
        "                    }\r\n",
        "                ],\r\n",
        "                \"config\": {}\r\n",
        "            },\r\n",
        "            \r\n",
        "            {\r\n",
        "                \"name\": \"entity\",\r\n",
        "                \"type\": \"entity\",\r\n",
        "                \"path\": f\"abfss://curated@{storagename}.dfs.core.windows.net/{subfolderpath}/entityweight.csv\",\r\n",
        "                \"steps\": [\r\n",
        "                    \"load\"\r\n",
        "                ]\r\n",
        "            },\r\n",
        "            {\r\n",
        "                \"name\": \"entityReviewFlag\",\r\n",
        "                \"type\": \"reviewflag\",\r\n",
        "                \"path\": f\"abfss://curated@{storagename}.dfs.core.windows.net/{subfolderpath}/entityredflag.csv\",\r\n",
        "                \"metadata\": {\r\n",
        "                    \"type\": \"reviewflagmetadata\",\r\n",
        "                    \"path\": f\"abfss://curated@{storagename}.dfs.core.windows.net/{subfolderpath}/redflagdefinition.csv\"\r\n",
        "                },\r\n",
        "                \"steps\": [\r\n",
        "                    \"load\",\r\n",
        "                    \"preprocess\"\r\n",
        "                ]\r\n",
        "            },\r\n",
        "            {\r\n",
        "                \"name\": \"attributeDefinition\",\r\n",
        "                \"type\": \"metadata\",\r\n",
        "                \"path\": f\"abfss://curated@{storagename}.dfs.core.windows.net/{subfolderpath}/attributedefinition.csv\",\r\n",
        "                \"steps\": [\r\n",
        "                    \"load\"\r\n",
        "                ]\r\n",
        "            }\r\n",
        "        ],\r\n",
        "        \"individual_link_prediction\": {\r\n",
        "            \"static\": [\r\n",
        "                {\r\n",
        "                    \"name\": \"contact\",\r\n",
        "                    \"config\": {\r\n",
        "                        \"min_weight\": 0.01,\r\n",
        "                        \"min_similarity\": 0.01,\r\n",
        "                        \"direct_link_min_weight\": 0.01\r\n",
        "                    }\r\n",
        "                }\r\n",
        "            ],\r\n",
        "            \"dynamic\": [\r\n",
        "                {\r\n",
        "                    \"name\": \"activity\",\r\n",
        "                    \"config\": {\r\n",
        "                        \"min_weight\": 1.0,\r\n",
        "                        \"sync_min_similarity\": 0.5,\r\n",
        "                        \"async_min_similarity\": 0.5,\r\n",
        "                        \"n_connected_components\": 100,\r\n",
        "                        \"min_component_size\": 5\r\n",
        "                    }\r\n",
        "                }\r\n",
        "            ]\r\n",
        "        },\r\n",
        "        \"individual_link_filtering\": {\r\n",
        "            \"dynamic\": [\r\n",
        "                {\r\n",
        "                    \"name\": \"activity\",\r\n",
        "                    \"config\": {\r\n",
        "                        \"min_overall_similarity\": 0.0,\r\n",
        "                        \"min_sync_similarity\": 0.8,\r\n",
        "                        \"min_async_similarity\": 0.8,\r\n",
        "                        \"sync_attributes\": [\r\n",
        "                            \"tender\",\r\n",
        "                            \"buyer\",\r\n",
        "                            \"item\"\r\n",
        "                        ],\r\n",
        "                        \"async_attributes\": [\r\n",
        "                            \r\n",
        "                            \"item\"\r\n",
        "                        ]\r\n",
        "                    }\r\n",
        "                }\r\n",
        "            ]\r\n",
        "        },\r\n",
        "        \"macro_link_prediction\": {\r\n",
        "            \"name\": \"macro\",\r\n",
        "            \"inputs\": [\r\n",
        "                \"activity_filtered_links\",\r\n",
        "                \"contact_links\"\r\n",
        "            ],\r\n",
        "            \"config\": {\r\n",
        "                \"min_weight\": 0.1,\r\n",
        "                \"min_similarity\": 0.1,\r\n",
        "                \"direct_link_min_weight\": 0.1\r\n",
        "            }\r\n",
        "        },\r\n",
        "        \"macro_link_filtering\": {\r\n",
        "            \"name\": \"macro\",\r\n",
        "            \"static\": [\r\n",
        "                {\r\n",
        "                    \"name\": \"contact\",\r\n",
        "                    \"config\": {\r\n",
        "                        \"include_fuzzy_match\": True\r\n",
        "                    }\r\n",
        "                }\r\n",
        "            ],\r\n",
        "            \"dynamic\": [\r\n",
        "                {\r\n",
        "                    \"name\": \"activity\",\r\n",
        "                    \"config\": {\r\n",
        "                        \"include_fuzzy_match\": False\r\n",
        "                    }\r\n",
        "                }\r\n",
        "            ],\r\n",
        "            \"config\": {\r\n",
        "                \"max_path_length\": 5\r\n",
        "            }\r\n",
        "        },\r\n",
        "        \"scoring\": {\r\n",
        "            \"entity\": \"entity\",\r\n",
        "            \"entity_flag\": \"entityReviewFlag\",\r\n",
        "            \"flag_metadata\": \"entityReviewFlag_metadata\",\r\n",
        "            \"predicted_links\": \"macro\",\r\n",
        "            \"config\": {}\r\n",
        "        },\r\n",
        "        \"report\": {\r\n",
        "            \"entity\": \"entity\",\r\n",
        "            \"static\": [\r\n",
        "                {\r\n",
        "                    \"name\": \"contact\",\r\n",
        "                    \"config\": {}\r\n",
        "                }\r\n",
        "\r\n",
        "            ],\r\n",
        "            \"dynamic\": [\r\n",
        "                {\r\n",
        "                    \"name\": \"activity\",\r\n",
        "                    \"config\": {}\r\n",
        "                }\r\n",
        "            ],\r\n",
        "            \"other\": [],\r\n",
        "            \"entity_flag\": \"entityReviewFlag\",\r\n",
        "            \"network_score\": \"network_scoring\",\r\n",
        "            \"predicted_links\": \"macro\",\r\n",
        "            \"flag_metadata\": \"entityReviewFlag_metadata\",\r\n",
        "            \"attribute_metadata\": \"attributeDefinition\",\r\n",
        "            \"config\": {\r\n",
        "                \"sync_attributes\": [\r\n",
        "                    \"item\"\r\n",
        "                ],\r\n",
        "                \"async_attributes\": [\r\n",
        "                   \r\n",
        "                    \"item\"\r\n",
        "                ],\r\n",
        "                \"entity_name_attribute\": \"name\",\r\n",
        "                \"base_url\": \"http://localhost:3000/report/\"\r\n",
        "            }\r\n",
        "        }\r\n",
        "    }\r\n",
        "}"
      ],
      "outputs": [
        {
          "output_type": "display_data",
          "data": {
            "application/vnd.livy.statement-meta+json": {
              "spark_pool": "defaultSpark32",
              "session_id": "4",
              "statement_id": 5,
              "state": "finished",
              "livy_statement_state": "available",
              "queued_time": "2023-09-25T02:34:19.0027176Z",
              "session_start_time": null,
              "execution_start_time": "2023-09-25T02:38:14.5557979Z",
              "execution_finish_time": "2023-09-25T02:38:14.7261805Z",
              "spark_jobs": null,
              "parent_msg_id": "f5b4f7d7-527c-4ab8-9436-9702f1d49800"
            },
            "text/plain": "StatementMeta(defaultSpark32, 4, 5, Finished, Available)"
          },
          "metadata": {}
        }
      ],
      "execution_count": 5,
      "metadata": {
        "jupyter": {
          "source_hidden": false,
          "outputs_hidden": false
        },
        "nteract": {
          "transient": {
            "deleting": false
          }
        }
      }
    },
    {
      "cell_type": "markdown",
      "source": [
        "## Pipeline Execution"
      ],
      "metadata": {
        "nteract": {
          "transient": {
            "deleting": false
          }
        }
      }
    },
    {
      "cell_type": "code",
      "source": [
        "pipeline = TransparencyPipeline()\r\n",
        "\r\n",
        "storage_config: Dict[str, str] = pipeline_config.get(\"storage\", dict())\r\n",
        "\r\n",
        "build_container(\r\n",
        "    {\r\n",
        "        ContainerKeys.STEP_CONFIG: step_config,\r\n",
        "        ContainerKeys.PIPELINE_CONFIG: pipeline_config,\r\n",
        "        ContainerKeys.DATA_HANDLER: (\r\n",
        "            DataHandler,\r\n",
        "            DataHandlerModes.from_string(storage_config.get(\"type\", \"\")),\r\n",
        "            storage_config.get(\"root\", \"\"),\r\n",
        "        ),\r\n",
        "    },\r\n",
        "    modules=[\"transparency_engine.pipeline\"],\r\n",
        "    packages=[],\r\n",
        ")"
      ],
      "outputs": [
        {
          "output_type": "display_data",
          "data": {
            "application/vnd.livy.statement-meta+json": {
              "spark_pool": "defaultSpark32",
              "session_id": "4",
              "statement_id": 6,
              "state": "finished",
              "livy_statement_state": "available",
              "queued_time": "2023-09-25T02:34:19.0037898Z",
              "session_start_time": null,
              "execution_start_time": "2023-09-25T02:38:14.8647204Z",
              "execution_finish_time": "2023-09-25T02:38:31.9300596Z",
              "spark_jobs": null,
              "parent_msg_id": "2d50280c-1fc3-4af7-9aaf-9c30f96d4854"
            },
            "text/plain": "StatementMeta(defaultSpark32, 4, 6, Finished, Available)"
          },
          "metadata": {}
        },
        {
          "output_type": "execute_result",
          "execution_count": 13,
          "data": {
            "text/plain": "<dependency_injector.containers.DynamicContainer at 0x7f5412c886d0>"
          },
          "metadata": {}
        }
      ],
      "execution_count": 6,
      "metadata": {
        "jupyter": {
          "source_hidden": false,
          "outputs_hidden": false
        },
        "nteract": {
          "transient": {
            "deleting": false
          }
        }
      }
    },
    {
      "cell_type": "code",
      "source": [
        "steps = PipelineSteps.from_string_list(pipeline_config.get(\"steps\", []))\r\n",
        "pipeline.run(steps=steps)"
      ],
      "outputs": [
        {
          "output_type": "display_data",
          "data": {
            "application/vnd.livy.statement-meta+json": {
              "spark_pool": "defaultSpark32",
              "session_id": "4",
              "statement_id": 7,
              "state": "finished",
              "livy_statement_state": "available",
              "queued_time": "2023-09-25T02:34:19.0051513Z",
              "session_start_time": null,
              "execution_start_time": "2023-09-25T02:38:32.0838583Z",
              "execution_finish_time": "2023-09-25T02:49:10.4053793Z",
              "spark_jobs": null,
              "parent_msg_id": "3b06fd3d-21d2-4b1f-9d66-8e8689ca348a"
            },
            "text/plain": "StatementMeta(defaultSpark32, 4, 7, Finished, Available)"
          },
          "metadata": {}
        },
        {
          "output_type": "stream",
          "name": "stdout",
          "text": [
            "{'name': LSHConfig(data_partitions=640, include_word_delimiter=True, ngram_length=4, num_hash_tables=3, min_df=0.0001, max_df=0.1, min_similarity=0.8), 'address': LSHConfig(data_partitions=640, include_word_delimiter=True, ngram_length=4, num_hash_tables=3, min_df=0.0001, max_df=0.1, min_similarity=0.8)}\n+--------------------+--------------------+------------------+-----------+\n|              Source|              Target|        Similarity|AttributeID|\n+--------------------+--------------------+------------------+-----------+\n|CNE ENVIRONMENTAL...|CNE ENVIRONMENTAL...|0.9444444444444444|       name|\n|MR. PATRICK ALOZI...|MR. PATRICK ALOZI...|0.9230769230769231|       name|\n|A.G. VISION CONST...|A.G. VISION CONST...|0.8518518518518519|       name|\n|CNE ENVIRONMENTAL...|CNE ENVIRONMENTAL...|0.8181818181818182|       name|\n|GITTO COSTRUZIONI...|GITTO COSTRUZIONI...|0.8064516129032258|       name|\n+--------------------+--------------------+------------------+-----------+\nonly showing top 5 rows\n\nUSEStaticLinkConfig(n_links=20, min_weight=0.01, reweight_graph=True, add_self_loop=True, n_connected_components=None, min_component_size=2, embedding_dim=128, use_laplacian_matrix=True, regularizer=None, degree_correct=True, truncate_embedding=True, elbow_sensitivity=2.0, ann_list=None, ann_normalize=True, ann_probe=10, min_similarity=0.01, add_direct_links=True, direct_link_min_weight=0.01)\n+------+---------+------+\n|  Node|Partition|NodeId|\n+------+---------+------+\n|     1| EntityID|     0|\n|   100| EntityID|     1|\n|    11| EntityID|     2|\n|   116| EntityID|     3|\n|116816| EntityID|     4|\n|116818| EntityID|     5|\n|116819| EntityID|     6|\n|116835| EntityID|     7|\n|116843| EntityID|     8|\n|116849| EntityID|     9|\n|116851| EntityID|    10|\n|116852| EntityID|    11|\n|116853| EntityID|    12|\n|116856| EntityID|    13|\n|116857| EntityID|    14|\n|    12| EntityID|    15|\n|   124| EntityID|    16|\n|   126| EntityID|    17|\n|   129| EntityID|    18|\n|    13| EntityID|    19|\n+------+---------+------+\nonly showing top 20 rows\n\n+------------+------+----------+------+----------+------+--------+--------+-----------------+--------------+--------------+\n|Relationship|Target|TargetType|Source|SourceType|Weight|SourceId|TargetId|UnfoldAttributeId|UnfoldSourceId|UnfoldTargetId|\n+------------+------+----------+------+----------+------+--------+--------+-----------------+--------------+--------------+\n|     website|    71|  EntityID|    52|  EntityID|   0.5|      54|      69|                2|           202|           217|\n|     website|    34|  EntityID|    14|  EntityID|   1.0|      20|      40|                2|           168|           188|\n|     website|    31|  EntityID|    12|  EntityID|   1.0|      15|      38|                2|           163|           186|\n|     website|    29|  EntityID|    22|  EntityID|   1.0|      29|      35|                2|           177|           183|\n|     website|    67|  EntityID|    46|  EntityID|   1.0|      48|      65|                2|           196|           213|\n|     website|    71|  EntityID|    54|  EntityID|   0.5|      56|      69|                2|           204|           217|\n|     website|    64|  EntityID|    34|  EntityID|   1.0|      40|      64|                2|           188|           212|\n|     website|    52|  EntityID|    29|  EntityID|   1.0|      35|      54|                2|           183|           202|\n|     website|    69|  EntityID|    41|  EntityID|   1.0|      45|      67|                2|           193|           215|\n|     website|    64|  EntityID|    48|  EntityID|   1.0|      50|      64|                2|           198|           212|\n+------------+------+----------+------+----------+------+--------+--------+-----------------+--------------+--------------+\nonly showing top 10 rows\n\nGETTING CONNECTED COMPONENTS\nNUMBER OF CONNECTED COMPONENTS: 11\nREMOVING COMPONENTS THAT HAVE LESS THAN 2 NODES\nNUMBER OF RETAINED COMPONENTS: 11\nGOT ANCHOR AND UNFOLDED COMPONENTS\nCOMPONENT SIZE: 53\nGOT PARTITIONED EMBEDDINGS\nCOMPONENT SIZE: 3\nGOT PARTITIONED EMBEDDINGS\nCOMPONENT SIZE: 2\nGOT PARTITIONED EMBEDDINGS\nCOMPONENT SIZE: 2\nGOT PARTITIONED EMBEDDINGS\nCOMPONENT SIZE: 2\nGOT PARTITIONED EMBEDDINGS\nCOMPONENT SIZE: 2\nGOT PARTITIONED EMBEDDINGS\nCOMPONENT SIZE: 2\nGOT PARTITIONED EMBEDDINGS\nCOMPONENT SIZE: 2\nGOT PARTITIONED EMBEDDINGS\nCOMPONENT SIZE: 2\nGOT PARTITIONED EMBEDDINGS\nCOMPONENT SIZE: 2\nGOT PARTITIONED EMBEDDINGS\nCOMPONENT SIZE: 2\nGOT PARTITIONED EMBEDDINGS\nCOMPONENT ID: 0\nCOMPONENT ID: 1\nCOMPONENT ID: 2\nCOMPONENT ID: 3\nCOMPONENT ID: 4\nCOMPONENT ID: 5\nCOMPONENT ID: 6\nCOMPONENT ID: 7\nCOMPONENT ID: 8\nCOMPONENT ID: 9\nCOMPONENT ID: 10\nUSEStaticLinkConfig(n_links=20, min_weight=0.01, reweight_graph=True, add_self_loop=True, n_connected_components=None, min_component_size=2, embedding_dim=128, use_laplacian_matrix=True, regularizer=None, degree_correct=True, truncate_embedding=True, elbow_sensitivity=2.0, ann_list=None, ann_normalize=True, ann_probe=10, min_similarity=0.01, add_direct_links=True, direct_link_min_weight=0.01)\n+-----+---------+------+\n| Node|Partition|NodeId|\n+-----+---------+------+\n|  126| EntityID|     0|\n|  144| EntityID|     1|\n|70675| EntityID|     2|\n|92623| EntityID|     3|\n+-----+---------+------+\n\n+------------------+------+----------+------+----------+------+--------+--------+-----------------+--------------+--------------+\n|      Relationship|Target|TargetType|Source|SourceType|Weight|SourceId|TargetId|UnfoldAttributeId|UnfoldSourceId|UnfoldTargetId|\n+------------------+------+----------+------+----------+------+--------+--------+-----------------+--------------+--------------+\n|individual_partner| 92623|  EntityID|   144|  EntityID|   1.0|       1|       3|                0|             1|             3|\n|individual_partner|   144|  EntityID|   144|  EntityID|   1.0|       1|       1|                0|             1|             1|\n|individual_partner| 92623|  EntityID| 92623|  EntityID|   1.0|       3|       3|                0|             3|             3|\n|individual_partner| 70675|  EntityID|   126|  EntityID|   1.0|       0|       2|                0|             0|             2|\n|individual_partner|   126|  EntityID|   126|  EntityID|   1.0|       0|       0|                0|             0|             0|\n|individual_partner| 70675|  EntityID| 70675|  EntityID|   1.0|       2|       2|                0|             2|             2|\n+------------------+------+----------+------+----------+------+--------+--------+-----------------+--------------+--------------+\n\nGETTING CONNECTED COMPONENTS\nNUMBER OF CONNECTED COMPONENTS: 2\nREMOVING COMPONENTS THAT HAVE LESS THAN 2 NODES\nNUMBER OF RETAINED COMPONENTS: 2\nGOT ANCHOR AND UNFOLDED COMPONENTS\nCOMPONENT SIZE: 2\nGOT PARTITIONED EMBEDDINGS\nCOMPONENT SIZE: 2\nGOT PARTITIONED EMBEDDINGS\nCOMPONENT ID: 0\nCOMPONENT ID: 1\nUSEDynamicLinkConfig(n_links=20, min_weight=1.0, reweight_graph=True, add_self_loop=False, n_connected_components=100, min_component_size=5, use_laplacian_matrix=True, regularizer=None, degree_correct=True, truncate_embedding=True, elbow_sensitivity=2.0, ann_list=None, ann_normalize=True, ann_probe=10, sync_embedding_dim=128, sync_links=20, sync_min_similarity=0.5, sync_link_prefix='sync_', async_embedding_dim=32, async_links=10, async_min_similarity=0.5, async_link_prefix='async_')\nfiltered edge data count: 186\n+----+---------+------+\n|Node|Partition|NodeId|\n+----+---------+------+\n|   1| EntityID|     0|\n|  10| EntityID|     1|\n|  11| EntityID|     2|\n|  12| EntityID|     3|\n|  13| EntityID|     4|\n|  14| EntityID|     5|\n|  15| EntityID|     6|\n|  16| EntityID|     7|\n|  17| EntityID|     8|\n|  18| EntityID|     9|\n|  19| EntityID|    10|\n|   2| EntityID|    11|\n|  20| EntityID|    12|\n|  21| EntityID|    13|\n|  22| EntityID|    14|\n|  23| EntityID|    15|\n|  24| EntityID|    16|\n|  25| EntityID|    17|\n|  26| EntityID|    18|\n|  27| EntityID|    19|\n+----+---------+------+\nonly showing top 20 rows\n\n+----------+--------------------+----------+------+----------+------+--------+--------+-----------------+--------------+--------------+\n|TimePeriod|              Target|TargetType|Source|SourceType|Weight|SourceId|TargetId|UnfoldAttributeId|UnfoldSourceId|UnfoldTargetId|\n+----------+--------------------+----------+------+----------+------+--------+--------+-----------------+--------------+--------------+\n|   2020-Q4|TENDER:OCDS-AZAM7...|    tender|    44|  EntityID|   1.0|      38|     147|                1|           228|           337|\n|   2020-Q4|TENDER:OCDS-AZAM7...|    tender|    24|  EntityID|   1.0|      16|     159|                1|           206|           349|\n|   2020-Q4|TENDER:OCDS-AZAM7...|    tender|    24|  EntityID|   1.0|      16|     168|                1|           206|           358|\n|   2020-Q4|TENDER:OCDS-AZAM7...|    tender|    53|  EntityID|   1.0|      48|      90|                1|           238|           280|\n|   2020-Q4|TENDER:OCDS-AZAM7...|    tender|    48|  EntityID|   1.0|      42|     104|                1|           232|           294|\n|   2020-Q4|TENDER:OCDS-AZAM7...|    tender|     9|  EntityID|   1.0|      70|      79|                1|           260|           269|\n|   2020-Q4|TENDER:OCDS-AZAM7...|    tender|     2|  EntityID|   1.0|      11|     138|                1|           201|           328|\n|   2020-Q4|TENDER:OCDS-AZAM7...|    tender|    31|  EntityID|   1.0|      24|     128|                1|           214|           318|\n|   2020-Q4|TENDER:OCDS-AZAM7...|    tender|    11|  EntityID|   1.0|       2|     154|                1|           192|           344|\n|   2020-Q4|TENDER:OCDS-AZAM7...|    tender|    64|  EntityID|   1.0|      60|     101|                1|           250|           291|\n+----------+--------------------+----------+------+----------+------+--------+--------+-----------------+--------------+--------------+\nonly showing top 10 rows\n\nCOMPUTING SYNC LINKS\nGETTING CONNECTED COMPONENTS\nNUMBER OF CONNECTED COMPONENTS: 15\nREMOVING COMPONENTS THAT HAVE LESS THAN 5 NODES\nNUMBER OF RETAINED COMPONENTS: 12\nGOT ANCHOR AND UNFOLDED COMPONENTS\nCOMPONENT SIZE: 25\nGOT PARTITIONED EMBEDDINGS\nCOMPONENT SIZE: 17\nGOT PARTITIONED EMBEDDINGS\nCOMPONENT SIZE: 14\nGOT PARTITIONED EMBEDDINGS\nCOMPONENT SIZE: 6\nGOT PARTITIONED EMBEDDINGS\nCOMPONENT SIZE: 3\nGOT PARTITIONED EMBEDDINGS\nCOMPONENT SIZE: 2\nGOT PARTITIONED EMBEDDINGS\nCOMPONENT SIZE: 2\nGOT PARTITIONED EMBEDDINGS\nCOMPONENT SIZE: 4\nGOT PARTITIONED EMBEDDINGS\nCOMPONENT SIZE: 28\nGOT PARTITIONED EMBEDDINGS\nCOMPONENT SIZE: 39\nGOT PARTITIONED EMBEDDINGS\nCOMPONENT SIZE: 8\nGOT PARTITIONED EMBEDDINGS\nCOMPONENT SIZE: 38\nGOT PARTITIONED EMBEDDINGS\nCOMPONENT ID: 0\nCOMPONENT ID: 1\nCOMPONENT ID: 2\nCOMPONENT ID: 3\nCOMPONENT ID: 4\nCOMPONENT ID: 5\nCOMPONENT ID: 6\nCOMPONENT ID: 7\nCOMPONENT ID: 8\nCOMPONENT ID: 9\nCOMPONENT ID: 10\nCOMPONENT ID: 11\nFINISHED SYNC LINKS\n+------+------+------------------+----------+----------+-------------+\n|Source|Target|            Weight|SourceType|TargetType| Relationship|\n+------+------+------------------+----------+----------+-------------+\n|    15|    37|               1.0|  EntityID|  EntityID|sync_activity|\n|     3|    59|0.9309799075126648|  EntityID|  EntityID|sync_activity|\n|    28|     9|               1.0|  EntityID|  EntityID|sync_activity|\n|     4|    65|               1.0|  EntityID|  EntityID|sync_activity|\n+------+------+------------------+----------+----------+-------------+\n\nInitial sync link count for activity: 4\nCOMPUTING ASYNC LINKS\nGETTING CONNECTED COMPONENTS\nNUMBER OF CONNECTED COMPONENTS: 15\nREMOVING COMPONENTS THAT HAVE LESS THAN 5 NODES\nNUMBER OF RETAINED COMPONENTS: 12\nGOT ANCHOR AND UNFOLDED COMPONENTS\nCOMPONENT SIZE: 39\nGOT PARTITIONED EMBEDDINGS\nCOMPONENT SIZE: 38\nGOT PARTITIONED EMBEDDINGS\nCOMPONENT SIZE: 28\nGOT PARTITIONED EMBEDDINGS\nCOMPONENT SIZE: 4\nGOT PARTITIONED EMBEDDINGS\nCOMPONENT SIZE: 8\nGOT PARTITIONED EMBEDDINGS\nCOMPONENT SIZE: 25\nGOT PARTITIONED EMBEDDINGS\nCOMPONENT SIZE: 14\nGOT PARTITIONED EMBEDDINGS\nCOMPONENT SIZE: 17\nGOT PARTITIONED EMBEDDINGS\nCOMPONENT SIZE: 6\nGOT PARTITIONED EMBEDDINGS\nCOMPONENT SIZE: 2\nGOT PARTITIONED EMBEDDINGS\nCOMPONENT SIZE: 3\nGOT PARTITIONED EMBEDDINGS\nCOMPONENT SIZE: 2\nGOT PARTITIONED EMBEDDINGS\nCOMPONENT ID: 0\nCOMPONENT ID: 1\nCOMPONENT ID: 2\nCOMPONENT ID: 3\nCOMPONENT ID: 4\nCOMPONENT ID: 5\nCOMPONENT ID: 6\nCOMPONENT ID: 7\nCOMPONENT ID: 8\nCOMPONENT ID: 9\nCOMPONENT ID: 10\nCOMPONENT ID: 11\nFINISHED ASYNC LINKS\n+------+------+------+----------+----------+------------+\n|Source|Target|Weight|SourceType|TargetType|Relationship|\n+------+------+------+----------+----------+------------+\n+------+------+------+----------+----------+------------+\n\nInitial async link count for activity: 0\nfiltered async link count: 0\nFinal link count for activity: 4\nDynamicLinkFilteringConfig(sync_attributes=['tender', 'buyer', 'item'], async_attributes=['buyer', 'item'], min_overall_similarity=0.0, min_sync_similarity=0.8, min_async_similarity=0.8, min_normalized_overall_similarity=None, anomaly_threshold=3.0, attribute_join_token='::', edge_join_token='--')\n+------+------+------------+------+----------+----------+\n|Source|Target|Relationship|Weight|SourceType|TargetType|\n+------+------+------------+------+----------+----------+\n+------+------+------------+------+----------+----------+\n\n+------+---------+------+\n|  Node|Partition|NodeId|\n+------+---------+------+\n|     1| EntityID|     0|\n|   100| EntityID|     1|\n|    11| EntityID|     2|\n|   116| EntityID|     3|\n|116816| EntityID|     4|\n|116818| EntityID|     5|\n|116819| EntityID|     6|\n|116835| EntityID|     7|\n|116843| EntityID|     8|\n|116849| EntityID|     9|\n|116851| EntityID|    10|\n|116852| EntityID|    11|\n|116853| EntityID|    12|\n|116856| EntityID|    13|\n|116857| EntityID|    14|\n|    12| EntityID|    15|\n|   124| EntityID|    16|\n|   126| EntityID|    17|\n|   129| EntityID|    18|\n|    13| EntityID|    19|\n+------+---------+------+\nonly showing top 20 rows\n\n+------------+------+----------+------+----------+------------------+--------+--------+-----------------+--------------+--------------+\n|Relationship|Target|TargetType|Source|SourceType|            Weight|SourceId|TargetId|UnfoldAttributeId|UnfoldSourceId|UnfoldTargetId|\n+------------+------+----------+------+----------+------------------+--------+--------+-----------------+--------------+--------------+\n|     contact|     5|  EntityID|    14|  EntityID|               1.0|      20|      52|                0|            20|            52|\n|     contact|     3|  EntityID|    12|  EntityID|               1.0|      15|      36|                0|            15|            36|\n|     contact|116856|  EntityID|116835|  EntityID|               1.0|       7|      13|                0|             7|            13|\n|     contact|    71|  EntityID|    20|  EntityID|0.5000000596046448|      27|      69|                0|            27|            69|\n|     contact|    42|  EntityID|    11|  EntityID|               1.0|       2|      46|                0|             2|            46|\n|     contact|    67|  EntityID|    11|  EntityID|               1.0|       2|      65|                0|             2|            65|\n|     contact|    68|  EntityID|    44|  EntityID|               1.0|      47|      66|                0|            47|            66|\n|     contact|     8|  EntityID|    57|  EntityID|               1.0|      59|      70|                0|            59|            70|\n|     contact|    67|  EntityID|    31|  EntityID|               1.0|      38|      65|                0|            38|            65|\n|     contact|    62|  EntityID|    19|  EntityID|               1.0|      25|      63|                0|            25|            63|\n+------------+------+----------+------+----------+------------------+--------+--------+-----------------+--------------+--------------+\nonly showing top 10 rows\n\nGETTING CONNECTED COMPONENTS\nNUMBER OF CONNECTED COMPONENTS: 11\nREMOVING COMPONENTS THAT HAVE LESS THAN 2 NODES\nNUMBER OF RETAINED COMPONENTS: 11\nGOT ANCHOR AND UNFOLDED COMPONENTS\nCOMPONENT SIZE: 53\nGOT PARTITIONED EMBEDDINGS\nCOMPONENT SIZE: 3\nGOT PARTITIONED EMBEDDINGS\nCOMPONENT SIZE: 2\nGOT PARTITIONED EMBEDDINGS\nCOMPONENT SIZE: 2\nGOT PARTITIONED EMBEDDINGS\nCOMPONENT SIZE: 2\nGOT PARTITIONED EMBEDDINGS\nCOMPONENT SIZE: 2\nGOT PARTITIONED EMBEDDINGS\nCOMPONENT SIZE: 2\nGOT PARTITIONED EMBEDDINGS\nCOMPONENT SIZE: 2\nGOT PARTITIONED EMBEDDINGS\nCOMPONENT SIZE: 2\nGOT PARTITIONED EMBEDDINGS\nCOMPONENT SIZE: 2\nGOT PARTITIONED EMBEDDINGS\nCOMPONENT SIZE: 2\nGOT PARTITIONED EMBEDDINGS\nCOMPONENT ID: 0\nCOMPONENT ID: 1\nCOMPONENT ID: 2\nCOMPONENT ID: 3\nCOMPONENT ID: 4\nCOMPONENT ID: 5\nCOMPONENT ID: 6\nCOMPONENT ID: 7\nCOMPONENT ID: 8\nCOMPONENT ID: 9\nCOMPONENT ID: 10\nMacroLinkFilteringConfig(join_token='::', max_path_length=5, max_fuzzy_chain_length=1, max_dynamic_chain_length=1, min_direct_links=0, noisy_relationships=[])\nmissing link count: 0\n+------+------+--------------------+\n|Source|Target|               Paths|\n+------+------+--------------------+\n|    24|    42|[[EntityID::24, w...|\n|    13|     2|[[EntityID::13, w...|\n|    22|    64|[[EntityID::22, w...|\n|    44|    67|[[EntityID::44, w...|\n|    13|    69|[[EntityID::13, w...|\n|    34|    52|[[EntityID::34, w...|\n|    13|    24|[[EntityID::13, w...|\n|    13|     8|[[EntityID::13, w...|\n|    37|    49|[[EntityID::37, w...|\n|    38|    55|[[EntityID::38, w...|\n|    24|     8|[[EntityID::24, w...|\n|    30|    53|[[EntityID::30, w...|\n|     1|    53|[[EntityID::1, we...|\n|    13|    47|[[EntityID::13, w...|\n|    41|    42|[[EntityID::41, w...|\n|    31|    71|[[EntityID::31, w...|\n|    29|    38|[[EntityID::29, w...|\n|    52|    53|[[EntityID::52, w...|\n|    71|     8|[[EntityID::71, w...|\n|    48|    64|[[EntityID::48, w...|\n+------+------+--------------------+\nonly showing top 20 rows\n\n"
          ]
        },
        {
          "output_type": "stream",
          "name": "stderr",
          "text": [
            "/opt/spark/python/lib/pyspark.zip/pyspark/sql/context.py:125: FutureWarning: Deprecated in 3.0.0. Use SparkSession.builder.getOrCreate() instead.\nWARNING clustering 3 points to 1 centroids: please provide at least 39 training points\nWARNING clustering 2 points to 1 centroids: please provide at least 39 training points\nWARNING clustering 2 points to 1 centroids: please provide at least 39 training points\nWARNING clustering 2 points to 1 centroids: please provide at least 39 training points\nWARNING clustering 2 points to 1 centroids: please provide at least 39 training points\nWARNING clustering 2 points to 1 centroids: please provide at least 39 training points\nWARNING clustering 2 points to 1 centroids: please provide at least 39 training points\nWARNING clustering 2 points to 1 centroids: please provide at least 39 training points\nWARNING clustering 2 points to 1 centroids: please provide at least 39 training points\nWARNING clustering 2 points to 1 centroids: please provide at least 39 training points\nWARNING clustering 2 points to 1 centroids: please provide at least 39 training points\nWARNING clustering 2 points to 1 centroids: please provide at least 39 training points\nWARNING clustering 25 points to 1 centroids: please provide at least 39 training points\nWARNING clustering 17 points to 1 centroids: please provide at least 39 training points\nWARNING clustering 14 points to 1 centroids: please provide at least 39 training points\nWARNING clustering 6 points to 1 centroids: please provide at least 39 training points\nWARNING clustering 3 points to 1 centroids: please provide at least 39 training points\nWARNING clustering 2 points to 1 centroids: please provide at least 39 training points\nWARNING clustering 2 points to 1 centroids: please provide at least 39 training points\nWARNING clustering 32 points to 1 centroids: please provide at least 39 training points\nWARNING clustering 27 points to 1 centroids: please provide at least 39 training points\nWARNING clustering 8 points to 1 centroids: please provide at least 39 training points\nWARNING clustering 3 points to 1 centroids: please provide at least 39 training points\nWARNING clustering 2 points to 1 centroids: please provide at least 39 training points\nWARNING clustering 3 points to 1 centroids: please provide at least 39 training points\nWARNING clustering 2 points to 1 centroids: please provide at least 39 training points\nWARNING clustering 2 points to 1 centroids: please provide at least 39 training points\nWARNING clustering 2 points to 1 centroids: please provide at least 39 training points\nWARNING clustering 2 points to 1 centroids: please provide at least 39 training points\nWARNING clustering 2 points to 1 centroids: please provide at least 39 training points\nWARNING clustering 2 points to 1 centroids: please provide at least 39 training points\nWARNING clustering 2 points to 1 centroids: please provide at least 39 training points\nWARNING clustering 2 points to 1 centroids: please provide at least 39 training points\nWARNING clustering 2 points to 1 centroids: please provide at least 39 training points\n"
          ]
        },
        {
          "output_type": "error",
          "ename": "PythonException",
          "evalue": "\n  An exception was thrown from the Python worker. Please see the stack trace below.\nTraceback (most recent call last):\n  File \"/home/trusted-service-user/cluster-env/clonedenv/lib/python3.8/site-packages/transparency_engine/analysis/scoring/entity_scoring.py\", line 132, in <lambda>\n    lambda measure_values: compute_score(measure_values, configs), FloatType()\n  File \"/home/trusted-service-user/cluster-env/env/lib/python3.8/site-packages/transparency_engine/analysis/scoring/measures.py\", line 338, in compute_score\n    float(\nTypeError: float() argument must be a string or a number, not 'NoneType'\n",
          "traceback": [
            "\u001b[0;31m---------------------------------------------------------------------------\u001b[0m",
            "\u001b[0;31mPythonException\u001b[0m                           Traceback (most recent call last)",
            "\u001b[0;32m/tmp/ipykernel_8268/1414318425.py\u001b[0m in \u001b[0;36m<module>\u001b[0;34m\u001b[0m\n\u001b[1;32m      1\u001b[0m \u001b[0msteps\u001b[0m \u001b[0;34m=\u001b[0m \u001b[0mPipelineSteps\u001b[0m\u001b[0;34m.\u001b[0m\u001b[0mfrom_string_list\u001b[0m\u001b[0;34m(\u001b[0m\u001b[0mpipeline_config\u001b[0m\u001b[0;34m.\u001b[0m\u001b[0mget\u001b[0m\u001b[0;34m(\u001b[0m\u001b[0;34m\"steps\"\u001b[0m\u001b[0;34m,\u001b[0m \u001b[0;34m[\u001b[0m\u001b[0;34m]\u001b[0m\u001b[0;34m)\u001b[0m\u001b[0;34m)\u001b[0m\u001b[0;34m\u001b[0m\u001b[0;34m\u001b[0m\u001b[0m\n\u001b[0;32m----> 2\u001b[0;31m \u001b[0mpipeline\u001b[0m\u001b[0;34m.\u001b[0m\u001b[0mrun\u001b[0m\u001b[0;34m(\u001b[0m\u001b[0msteps\u001b[0m\u001b[0;34m=\u001b[0m\u001b[0msteps\u001b[0m\u001b[0;34m)\u001b[0m\u001b[0;34m\u001b[0m\u001b[0;34m\u001b[0m\u001b[0m\n\u001b[0m",
            "\u001b[0;32m~/cluster-env/clonedenv/lib/python3.8/site-packages/transparency_engine/pipeline/transparency_pipeline.py\u001b[0m in \u001b[0;36mrun\u001b[0;34m(self, steps)\u001b[0m\n\u001b[1;32m     98\u001b[0m                 \u001b[0mself\u001b[0m\u001b[0;34m.\u001b[0m\u001b[0mmacro_link_filtering\u001b[0m\u001b[0;34m(\u001b[0m\u001b[0;34m)\u001b[0m\u001b[0;34m\u001b[0m\u001b[0;34m\u001b[0m\u001b[0m\n\u001b[1;32m     99\u001b[0m             \u001b[0;32melif\u001b[0m \u001b[0mstep\u001b[0m \u001b[0;34m==\u001b[0m \u001b[0mPipelineSteps\u001b[0m\u001b[0;34m.\u001b[0m\u001b[0mSCORING\u001b[0m\u001b[0;34m:\u001b[0m\u001b[0;34m\u001b[0m\u001b[0;34m\u001b[0m\u001b[0m\n\u001b[0;32m--> 100\u001b[0;31m                 \u001b[0mself\u001b[0m\u001b[0;34m.\u001b[0m\u001b[0mscoring\u001b[0m\u001b[0;34m(\u001b[0m\u001b[0;34m)\u001b[0m\u001b[0;34m\u001b[0m\u001b[0;34m\u001b[0m\u001b[0m\n\u001b[0m\u001b[1;32m    101\u001b[0m             \u001b[0;32melif\u001b[0m \u001b[0mstep\u001b[0m \u001b[0;34m==\u001b[0m \u001b[0mPipelineSteps\u001b[0m\u001b[0;34m.\u001b[0m\u001b[0mREPORT\u001b[0m\u001b[0;34m:\u001b[0m\u001b[0;34m\u001b[0m\u001b[0;34m\u001b[0m\u001b[0m\n\u001b[1;32m    102\u001b[0m                 \u001b[0mself\u001b[0m\u001b[0;34m.\u001b[0m\u001b[0mreport\u001b[0m\u001b[0;34m(\u001b[0m\u001b[0;34m)\u001b[0m\u001b[0;34m\u001b[0m\u001b[0;34m\u001b[0m\u001b[0m\n",
            "\u001b[0;32m~/cluster-env/clonedenv/lib/python3.8/site-packages/transparency_engine/pipeline/transparency_pipeline.py\u001b[0m in \u001b[0;36mscoring\u001b[0;34m(self)\u001b[0m\n\u001b[1;32m    328\u001b[0m             \u001b[0mentity_data_df\u001b[0m\u001b[0;34m,\u001b[0m \u001b[0mentity_flag_df\u001b[0m\u001b[0;34m,\u001b[0m \u001b[0mflag_metadata_df\u001b[0m\u001b[0;34m\u001b[0m\u001b[0;34m\u001b[0m\u001b[0m\n\u001b[1;32m    329\u001b[0m         ).cache()\n\u001b[0;32m--> 330\u001b[0;31m         \u001b[0mlogger\u001b[0m\u001b[0;34m.\u001b[0m\u001b[0minfo\u001b[0m\u001b[0;34m(\u001b[0m\u001b[0;34mf\"Finished computing entity score: {entity_score_df.count()}\"\u001b[0m\u001b[0;34m)\u001b[0m\u001b[0;34m\u001b[0m\u001b[0;34m\u001b[0m\u001b[0m\n\u001b[0m\u001b[1;32m    331\u001b[0m         \u001b[0mentity_score_df\u001b[0m\u001b[0;34m.\u001b[0m\u001b[0mshow\u001b[0m\u001b[0;34m(\u001b[0m\u001b[0;36m5\u001b[0m\u001b[0;34m)\u001b[0m\u001b[0;34m\u001b[0m\u001b[0;34m\u001b[0m\u001b[0m\n\u001b[1;32m    332\u001b[0m         \u001b[0mself\u001b[0m\u001b[0;34m.\u001b[0m\u001b[0mdata_handler\u001b[0m\u001b[0;34m.\u001b[0m\u001b[0mwrite_data\u001b[0m\u001b[0;34m(\u001b[0m\u001b[0mentity_score_df\u001b[0m\u001b[0;34m,\u001b[0m \u001b[0;34m\"entity_scoring\"\u001b[0m\u001b[0;34m)\u001b[0m\u001b[0;34m\u001b[0m\u001b[0;34m\u001b[0m\u001b[0m\n",
            "\u001b[0;32m/opt/spark/python/lib/pyspark.zip/pyspark/sql/dataframe.py\u001b[0m in \u001b[0;36mcount\u001b[0;34m(self)\u001b[0m\n\u001b[1;32m    678\u001b[0m         \u001b[0;36m2\u001b[0m\u001b[0;34m\u001b[0m\u001b[0;34m\u001b[0m\u001b[0m\n\u001b[1;32m    679\u001b[0m         \"\"\"\n\u001b[0;32m--> 680\u001b[0;31m         \u001b[0;32mreturn\u001b[0m \u001b[0mint\u001b[0m\u001b[0;34m(\u001b[0m\u001b[0mself\u001b[0m\u001b[0;34m.\u001b[0m\u001b[0m_jdf\u001b[0m\u001b[0;34m.\u001b[0m\u001b[0mcount\u001b[0m\u001b[0;34m(\u001b[0m\u001b[0;34m)\u001b[0m\u001b[0;34m)\u001b[0m\u001b[0;34m\u001b[0m\u001b[0;34m\u001b[0m\u001b[0m\n\u001b[0m\u001b[1;32m    681\u001b[0m \u001b[0;34m\u001b[0m\u001b[0m\n\u001b[1;32m    682\u001b[0m     \u001b[0;32mdef\u001b[0m \u001b[0mcollect\u001b[0m\u001b[0;34m(\u001b[0m\u001b[0mself\u001b[0m\u001b[0;34m)\u001b[0m\u001b[0;34m:\u001b[0m\u001b[0;34m\u001b[0m\u001b[0;34m\u001b[0m\u001b[0m\n",
            "\u001b[0;32m~/cluster-env/clonedenv/lib/python3.8/site-packages/py4j/java_gateway.py\u001b[0m in \u001b[0;36m__call__\u001b[0;34m(self, *args)\u001b[0m\n\u001b[1;32m   1319\u001b[0m \u001b[0;34m\u001b[0m\u001b[0m\n\u001b[1;32m   1320\u001b[0m         \u001b[0manswer\u001b[0m \u001b[0;34m=\u001b[0m \u001b[0mself\u001b[0m\u001b[0;34m.\u001b[0m\u001b[0mgateway_client\u001b[0m\u001b[0;34m.\u001b[0m\u001b[0msend_command\u001b[0m\u001b[0;34m(\u001b[0m\u001b[0mcommand\u001b[0m\u001b[0;34m)\u001b[0m\u001b[0;34m\u001b[0m\u001b[0;34m\u001b[0m\u001b[0m\n\u001b[0;32m-> 1321\u001b[0;31m         return_value = get_return_value(\n\u001b[0m\u001b[1;32m   1322\u001b[0m             answer, self.gateway_client, self.target_id, self.name)\n\u001b[1;32m   1323\u001b[0m \u001b[0;34m\u001b[0m\u001b[0m\n",
            "\u001b[0;32m/opt/spark/python/lib/pyspark.zip/pyspark/sql/utils.py\u001b[0m in \u001b[0;36mdeco\u001b[0;34m(*a, **kw)\u001b[0m\n\u001b[1;32m    115\u001b[0m                 \u001b[0;31m# Hide where the exception came from that shows a non-Pythonic\u001b[0m\u001b[0;34m\u001b[0m\u001b[0;34m\u001b[0m\u001b[0;34m\u001b[0m\u001b[0m\n\u001b[1;32m    116\u001b[0m                 \u001b[0;31m# JVM exception message.\u001b[0m\u001b[0;34m\u001b[0m\u001b[0;34m\u001b[0m\u001b[0;34m\u001b[0m\u001b[0m\n\u001b[0;32m--> 117\u001b[0;31m                 \u001b[0;32mraise\u001b[0m \u001b[0mconverted\u001b[0m \u001b[0;32mfrom\u001b[0m \u001b[0;32mNone\u001b[0m\u001b[0;34m\u001b[0m\u001b[0;34m\u001b[0m\u001b[0m\n\u001b[0m\u001b[1;32m    118\u001b[0m             \u001b[0;32melse\u001b[0m\u001b[0;34m:\u001b[0m\u001b[0;34m\u001b[0m\u001b[0;34m\u001b[0m\u001b[0m\n\u001b[1;32m    119\u001b[0m                 \u001b[0;32mraise\u001b[0m\u001b[0;34m\u001b[0m\u001b[0;34m\u001b[0m\u001b[0m\n",
            "\u001b[0;31mPythonException\u001b[0m: \n  An exception was thrown from the Python worker. Please see the stack trace below.\nTraceback (most recent call last):\n  File \"/home/trusted-service-user/cluster-env/clonedenv/lib/python3.8/site-packages/transparency_engine/analysis/scoring/entity_scoring.py\", line 132, in <lambda>\n    lambda measure_values: compute_score(measure_values, configs), FloatType()\n  File \"/home/trusted-service-user/cluster-env/env/lib/python3.8/site-packages/transparency_engine/analysis/scoring/measures.py\", line 338, in compute_score\n    float(\nTypeError: float() argument must be a string or a number, not 'NoneType'\n"
          ]
        }
      ],
      "execution_count": 7,
      "metadata": {
        "jupyter": {
          "source_hidden": false,
          "outputs_hidden": false
        },
        "nteract": {
          "transient": {
            "deleting": false
          }
        }
      }
    }
  ],
  "metadata": {
    "kernelspec": {
      "name": "synapse_pyspark",
      "display_name": "Synapse PySpark"
    },
    "language_info": {
      "name": "python"
    },
    "description": null,
    "save_output": true,
    "synapse_widget": {
      "version": "0.1",
      "state": {}
    }
  },
  "nbformat": 4,
  "nbformat_minor": 2
}