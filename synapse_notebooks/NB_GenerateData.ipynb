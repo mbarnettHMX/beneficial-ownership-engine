{
  "nbformat": 4,
  "nbformat_minor": 2,
  "cells": [
    {
      "cell_type": "code",
      "execution_count": 11,
      "outputs": [],
      "metadata": {},
      "source": [
        "%%configure -f\r\n",
        "{\r\n",
        "    \"conf\":\r\n",
        "    {\r\n",
        "        \"spark.sql.shuffle.partitions\": 16,\r\n",
        "        \"spark.sql.broadcastTimeout\": 14400,\r\n",
        "        \"spark.port.maxRetries\": 100\r\n",
        "\r\n",
        "    }\r\n",
        "}"
      ]
    },
    {
      "cell_type": "code",
      "execution_count": 12,
      "outputs": [],
      "metadata": {
        "jupyter": {
          "source_hidden": false,
          "outputs_hidden": false
        },
        "nteract": {
          "transient": {
            "deleting": false
          }
        }
      },
      "source": [
        "from typing import Dict\r\n",
        "from transparency_engine.pipeline import TransparencyPipeline\r\n",
        "from transparency_engine.synthetic_data import public_procurement\r\n",
        "import json"
      ]
    },
    {
      "cell_type": "code",
      "execution_count": 16,
      "outputs": [],
      "metadata": {
        "jupyter": {
          "source_hidden": false,
          "outputs_hidden": false
        },
        "nteract": {
          "transient": {
            "deleting": false
          }
        }
      },
      "source": [
        "#Storage Config\r\n",
        "storageLinkedService = 'LS_LandingStorage'\r\n",
        "storageAccount_ls = mssparkutils.credentials.getPropertiesAll(storageLinkedService)\r\n",
        "storage_account = json.loads(storageAccount_ls)['Endpoint'].split('.')[0].replace('https://','')"
      ]
    },
    {
      "cell_type": "code",
      "execution_count": 18,
      "outputs": [],
      "metadata": {
        "jupyter": {
          "source_hidden": false,
          "outputs_hidden": false
        },
        "nteract": {
          "transient": {
            "deleting": false
          }
        }
      },
      "source": [
        "# def generate_procurement_data(\r\n",
        "#     config: DataGeneratorConfig = procurement_configs,\r\n",
        "#     n_entities: int = 1000,\r\n",
        "#     n_communities: int = 20,\r\n",
        "#     n_periods: int = 20,\r\n",
        "# )\r\n",
        "\r\n",
        "#     Parameters:\r\n",
        "#         config\r\n",
        "#         n_entities: int, default = 1000\r\n",
        "#             Number of entities to generate\r\n",
        "#         n_communities: int, default = 20\r\n",
        "#             Number of communities in the entity graph.\r\n",
        "#         n_periods: int, default = 20\r\n",
        "#             Number of observed periods\r\n",
        "#     Returns: Dictionary containing 7 dataframes to be used as inputs for the transparency engine model\r\n",
        ""
      ]
    },
    {
      "cell_type": "code",
      "execution_count": 19,
      "outputs": [],
      "metadata": {
        "jupyter": {
          "source_hidden": false,
          "outputs_hidden": false
        },
        "nteract": {
          "transient": {
            "deleting": false
          }
        }
      },
      "source": [
        "sample_data_dict = public_procurement.generate_procurement_data()"
      ]
    },
    {
      "cell_type": "code",
      "execution_count": null,
      "outputs": [],
      "metadata": {
        "jupyter": {
          "source_hidden": false,
          "outputs_hidden": false
        },
        "nteract": {
          "transient": {
            "deleting": false
          }
        }
      },
      "source": [
        "for table in sample_data_dict:\r\n",
        "    output = sample_data_dict[table].coalesce(1).write.option(\"header\",\"true\").csv('abfss://landing@'+storage_account+'.dfs.core.windows.net/BeneficialOwnership/GeneratedData/temp/'+table)"
      ]
    }
  ],
  "metadata": {
    "description": null,
    "save_output": true,
    "kernelspec": {
      "name": "synapse_pyspark",
      "display_name": "Synapse PySpark"
    },
    "language_info": {
      "name": "python"
    }
  }
}