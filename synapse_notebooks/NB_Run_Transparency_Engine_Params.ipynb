{
  "cells": [
    {
      "cell_type": "code",
      "source": [
        "%%configure -f\r\n",
        "{\r\n",
        "    \"conf\":\r\n",
        "    {\r\n",
        "        \"spark.sql.shuffle.partitions\": 64,\r\n",
        "        \"spark.sql.broadcastTimeout\": 14400,\r\n",
        "        \"spark.port.maxRetries\": 100,\r\n",
        "        \"spark.executor.allowSparkContext\": \"true\"\r\n",
        "\r\n",
        "    }\r\n",
        "}"
      ],
      "outputs": [
        {
          "output_type": "display_data",
          "data": {
            "application/vnd.livy.statement-meta+json": {
              "spark_pool": null,
              "session_id": "30",
              "statement_id": -1,
              "state": "finished",
              "livy_statement_state": "available",
              "queued_time": "2023-05-07T23:54:14.5709956Z",
              "session_start_time": "2023-05-07T23:54:14.6594264Z",
              "execution_start_time": "2023-05-07T23:54:53.3291854Z",
              "execution_finish_time": "2023-05-07T23:54:53.3294357Z",
              "spark_jobs": null,
              "parent_msg_id": "e92e63e2-096d-42fe-b91e-2f571ade83ed"
            },
            "text/plain": "StatementMeta(, 30, -1, Finished, Available)"
          },
          "metadata": {}
        }
      ],
      "execution_count": 13,
      "metadata": {
        "jupyter": {
          "source_hidden": false,
          "outputs_hidden": false
        },
        "nteract": {
          "transient": {
            "deleting": false
          }
        }
      }
    },
    {
      "cell_type": "code",
      "source": [
        "# Import from Whl\r\n",
        "\r\n",
        "from typing import Dict\r\n",
        "from transparency_engine.containers import ContainerKeys, build_container\r\n",
        "from transparency_engine.io.data_handler import DataHandler, DataHandlerModes\r\n",
        "from transparency_engine.pipeline import TransparencyPipeline\r\n",
        "from transparency_engine.typing import PipelineSteps\r\n"
      ],
      "outputs": [
        {
          "output_type": "display_data",
          "data": {
            "application/vnd.livy.statement-meta+json": {
              "spark_pool": "msrTestCluster",
              "session_id": "30",
              "statement_id": 1,
              "state": "finished",
              "livy_statement_state": "available",
              "queued_time": "2023-05-07T23:54:14.731245Z",
              "session_start_time": null,
              "execution_start_time": "2023-05-07T23:55:13.9073315Z",
              "execution_finish_time": "2023-05-07T23:55:16.713918Z",
              "spark_jobs": null,
              "parent_msg_id": "76da3216-23db-4081-80e5-01d641291724"
            },
            "text/plain": "StatementMeta(msrTestCluster, 30, 1, Finished, Available)"
          },
          "metadata": {}
        },
        {
          "output_type": "stream",
          "name": "stderr",
          "text": [
            "<frozen importlib._bootstrap>:219: RuntimeWarning: scipy._lib.messagestream.MessageStream size changed, may indicate binary incompatibility. Expected 56 from C header, got 64 from PyObject\n"
          ]
        }
      ],
      "execution_count": 14,
      "metadata": {}
    },
    {
      "cell_type": "code",
      "source": [
        "country_names = \"\""
      ],
      "outputs": [
        {
          "output_type": "display_data",
          "data": {
            "application/vnd.livy.statement-meta+json": {
              "spark_pool": "newCluster",
              "session_id": "40",
              "statement_id": 5,
              "state": "finished",
              "livy_statement_state": "available",
              "queued_time": "2023-07-23T04:06:32.336718Z",
              "session_start_time": null,
              "execution_start_time": "2023-07-23T04:06:32.8310425Z",
              "execution_finish_time": "2023-07-23T04:06:32.9922899Z",
              "spark_jobs": null,
              "parent_msg_id": "0c938c16-38d0-4908-a593-c6e6eff945a4"
            },
            "text/plain": "StatementMeta(newCluster, 40, 5, Finished, Available)"
          },
          "metadata": {}
        }
      ],
      "execution_count": 9,
      "metadata": {
        "jupyter": {
          "source_hidden": false,
          "outputs_hidden": false
        },
        "nteract": {
          "transient": {
            "deleting": false
          }
        },
        "tags": [
          "parameters"
        ]
      }
    },
    {
      "cell_type": "code",
      "source": [
        "from datetime import datetime \r\n",
        "now = datetime.now()\r\n",
        "year = now.strftime(\"%Y\")\r\n",
        "year\r\n",
        "date_time = now.strftime(\"%m%d%Y%H%m\")\r\n",
        "date = now.strftime(\"%Y-%m-%d\")\r\n",
        "lakedb_name = country_names + date_time"
      ],
      "outputs": [
        {
          "output_type": "display_data",
          "data": {
            "application/vnd.livy.statement-meta+json": {
              "spark_pool": "newCluster",
              "session_id": "40",
              "statement_id": 15,
              "state": "finished",
              "livy_statement_state": "available",
              "queued_time": "2023-07-23T04:12:21.2063613Z",
              "session_start_time": null,
              "execution_start_time": "2023-07-23T04:12:21.5742422Z",
              "execution_finish_time": "2023-07-23T04:12:21.7310726Z",
              "spark_jobs": null,
              "parent_msg_id": "1a74090f-3156-4a20-9bd4-8efb94b80a1e"
            },
            "text/plain": "StatementMeta(newCluster, 40, 15, Finished, Available)"
          },
          "metadata": {}
        }
      ],
      "execution_count": 19,
      "metadata": {
        "jupyter": {
          "source_hidden": false,
          "outputs_hidden": false
        },
        "nteract": {
          "transient": {
            "deleting": false
          }
        }
      }
    },
    {
      "cell_type": "markdown",
      "source": [
        "### Manually Update SubFolderpath for This Run"
      ],
      "metadata": {
        "nteract": {
          "transient": {
            "deleting": false
          }
        }
      }
    },
    {
      "cell_type": "code",
      "source": [
        "# MANUALLY UPDATE FOLDERPATH\r\n",
        "subfolderpath = 'BeneficialOwnership/'+ date\r\n"
      ],
      "outputs": [
        {
          "output_type": "display_data",
          "data": {
            "application/vnd.livy.statement-meta+json": {
              "spark_pool": "newCluster",
              "session_id": "40",
              "statement_id": 16,
              "state": "finished",
              "livy_statement_state": "available",
              "queued_time": "2023-07-23T04:12:22.9798519Z",
              "session_start_time": null,
              "execution_start_time": "2023-07-23T04:12:23.1003391Z",
              "execution_finish_time": "2023-07-23T04:12:23.2577468Z",
              "spark_jobs": null,
              "parent_msg_id": "a311a509-1283-4046-8311-d2cee95d7fe0"
            },
            "text/plain": "StatementMeta(newCluster, 40, 16, Finished, Available)"
          },
          "metadata": {}
        }
      ],
      "execution_count": 20,
      "metadata": {
        "jupyter": {
          "source_hidden": false,
          "outputs_hidden": false
        },
        "nteract": {
          "transient": {
            "deleting": false
          }
        }
      }
    },
    {
      "cell_type": "markdown",
      "source": [
        "## Pipeline Configurations"
      ],
      "metadata": {
        "nteract": {
          "transient": {
            "deleting": false
          }
        }
      }
    },
    {
      "cell_type": "code",
      "source": [
        "pipeline_config = {\r\n",
        "    \"name\": \"Transparency Engine Pipeline\",\r\n",
        "    \"description\": \"Transparency Engine using open or customer data\",\r\n",
        "    \"storage\": {\r\n",
        "        \"type\": \"hive\",\r\n",
        "        \"root\": f\"lakedb_name\"\r\n",
        "    },\r\n",
        "    \"steps\": [\r\n",
        "        \"prep\",\r\n",
        "        \"individual_link_prediction\",\r\n",
        "        \"individual_link_filtering\",\r\n",
        "        \"macro_link_prediction\",\r\n",
        "        \"macro_link_filtering\",\r\n",
        "        \"scoring\",\r\n",
        "        \"report\"\r\n",
        "    ]\r\n",
        "}\r\n"
      ],
      "outputs": [
        {
          "output_type": "display_data",
          "data": {
            "application/vnd.livy.statement-meta+json": {
              "spark_pool": "msrTestCluster",
              "session_id": "30",
              "statement_id": 2,
              "state": "finished",
              "livy_statement_state": "available",
              "queued_time": "2023-05-07T23:54:14.885734Z",
              "session_start_time": null,
              "execution_start_time": "2023-05-07T23:55:16.8669485Z",
              "execution_finish_time": "2023-05-07T23:55:17.0249285Z",
              "spark_jobs": null,
              "parent_msg_id": "ca96db28-7ac6-4a38-bed3-e1faed1ac49b"
            },
            "text/plain": "StatementMeta(msrTestCluster, 30, 2, Finished, Available)"
          },
          "metadata": {}
        }
      ],
      "execution_count": 15,
      "metadata": {
        "jupyter": {
          "source_hidden": false,
          "outputs_hidden": false
        },
        "nteract": {
          "transient": {
            "deleting": false
          }
        }
      }
    },
    {
      "cell_type": "code",
      "source": [
        "step_config = {\r\n",
        "    \"steps\": {\r\n",
        "        \"prep\": [\r\n",
        "            {\r\n",
        "                \"name\": \"activity\",\r\n",
        "                \"type\": \"dynamic\",\r\n",
        "                \"path\": f\"abfss://curated@storageAccountName.dfs.core.windows.net/{subfolderpath}/activity.csv\",\r\n",
        "                \"steps\": [\r\n",
        "                    \"load\",\r\n",
        "                    \"preprocess\"\r\n",
        "                ],\r\n",
        "                \"config\": {}\r\n",
        "            },\r\n",
        "            {\r\n",
        "                \"name\": \"contact\",\r\n",
        "                \"type\": \"static\",\r\n",
        "                \"path\": f\"abfss://curated@storageAccountName.dfs.core.windows.net/{subfolderpath}/contact.csv\",\r\n",
        "                \"steps\": [\r\n",
        "                    \"load\",\r\n",
        "                    \"fuzzy_match\",\r\n",
        "                    \"preprocess\"\r\n",
        "                ],\r\n",
        "                \"fuzzy_match_on\": [\r\n",
        "                    {\r\n",
        "                        \"name\": \"name\",\r\n",
        "                        \"config\": {\r\n",
        "                            \"min_similarity\": 0.9\r\n",
        "                        }\r\n",
        "                    },\r\n",
        "                    {\r\n",
        "                        \"name\": \"address\",\r\n",
        "                        \"config\": {\r\n",
        "                            \"min_similarity\": 0.9\r\n",
        "                        }\r\n",
        "                    }\r\n",
        "                ],\r\n",
        "                \"config\": {}\r\n",
        "            },\r\n",
        "            {\r\n",
        "                \"name\": \"ownership\",\r\n",
        "                \"type\": \"static\",\r\n",
        "                \"path\": f\"abfss://curated@storageAccountName.dfs.core.windows.net/{subfolderpath}/ownership.csv\",\r\n",
        "                \"steps\": [\r\n",
        "                    \"load\",\r\n",
        "                    \"preprocess\"\r\n",
        "                ],\r\n",
        "                \"config\": {}\r\n",
        "            },\r\n",
        "            {\r\n",
        "                \"name\": \"entity\",\r\n",
        "                \"type\": \"entity\",\r\n",
        "                \"path\": f\"abfss://curated@storageAccountName.dfs.core.windows.net/{subfolderpath}/entityweight.csv\",\r\n",
        "                \"steps\": [\r\n",
        "                    \"load\"\r\n",
        "                ]\r\n",
        "            },\r\n",
        "            {\r\n",
        "                \"name\": \"entityReviewFlag\",\r\n",
        "                \"type\": \"reviewflag\",\r\n",
        "                \"path\": f\"abfss://curated@storageAccountName.dfs.core.windows.net/{subfolderpath}/entityredflag.csv\",\r\n",
        "                \"metadata\": {\r\n",
        "                    \"type\": \"reviewflagmetadata\",\r\n",
        "                    \"path\": f\"abfss://curated@storageAccountName.dfs.core.windows.net/{subfolderpath}/redflagdefinition.csv\"\r\n",
        "                },\r\n",
        "                \"steps\": [\r\n",
        "                    \"load\",\r\n",
        "                    \"preprocess\"\r\n",
        "                ]\r\n",
        "            },\r\n",
        "            {\r\n",
        "                \"name\": \"attributeDefinition\",\r\n",
        "                \"type\": \"metadata\",\r\n",
        "                \"path\": f\"abfss://curated@storageAccountName.dfs.core.windows.net/{subfolderpath}/attributedefinition.csv\",\r\n",
        "                \"steps\": [\r\n",
        "                    \"load\"\r\n",
        "                ]\r\n",
        "            }\r\n",
        "        ],\r\n",
        "        \"individual_link_prediction\": {\r\n",
        "            \"static\": [\r\n",
        "                {\r\n",
        "                    \"name\": \"contact\",\r\n",
        "                    \"config\": {\r\n",
        "                        \"min_weight\": 0.01,\r\n",
        "                        \"min_similarity\": 0.01,\r\n",
        "                        \"direct_link_min_weight\": 0.01\r\n",
        "                    }\r\n",
        "                },\r\n",
        "                {\r\n",
        "                    \"name\": \"ownership\",\r\n",
        "                    \"config\": {\r\n",
        "                        \"min_weight\": 0.01,\r\n",
        "                        \"min_similarity\": 0.01,\r\n",
        "                        \"direct_link_min_weight\": 0.01\r\n",
        "                    }\r\n",
        "                }\r\n",
        "            ],\r\n",
        "            \"dynamic\": [\r\n",
        "                {\r\n",
        "                    \"name\": \"activity\",\r\n",
        "                    \"config\": {\r\n",
        "                        \"min_weight\": 1.0,\r\n",
        "                        \"sync_min_similarity\": 0.5,\r\n",
        "                        \"async_min_similarity\": 0.5,\r\n",
        "                        \"n_connected_components\": 100,\r\n",
        "                        \"min_component_size\": 5\r\n",
        "                    }\r\n",
        "                }\r\n",
        "            ]\r\n",
        "        },\r\n",
        "        \"individual_link_filtering\": {\r\n",
        "            \"dynamic\": [\r\n",
        "                {\r\n",
        "                    \"name\": \"activity\",\r\n",
        "                    \"config\": {\r\n",
        "                        \"min_overall_similarity\": 0.0,\r\n",
        "                        \"min_sync_similarity\": 0.8,\r\n",
        "                        \"min_async_similarity\": 0.8,\r\n",
        "                        \"sync_attributes\": [\r\n",
        "                            \"tender\",\r\n",
        "                            \"buyer\",\r\n",
        "                            \"item\"\r\n",
        "                        ],\r\n",
        "                        \"async_attributes\": [\r\n",
        "                            \"buyer\",\r\n",
        "                            \"item\"\r\n",
        "                        ]\r\n",
        "                    }\r\n",
        "                }\r\n",
        "            ]\r\n",
        "        },\r\n",
        "        \"macro_link_prediction\": {\r\n",
        "            \"name\": \"macro\",\r\n",
        "            \"inputs\": [\r\n",
        "                \"activity_filtered_links\",\r\n",
        "                \"contact_links\",\r\n",
        "                \"ownership_links\"\r\n",
        "            ],\r\n",
        "            \"config\": {\r\n",
        "                \"min_weight\": 0.1,\r\n",
        "                \"min_similarity\": 0.1,\r\n",
        "                \"direct_link_min_weight\": 0.1\r\n",
        "            }\r\n",
        "        },\r\n",
        "        \"macro_link_filtering\": {\r\n",
        "            \"name\": \"macro\",\r\n",
        "            \"static\": [\r\n",
        "                {\r\n",
        "                    \"name\": \"contact\",\r\n",
        "                    \"config\": {\r\n",
        "                        \"include_fuzzy_match\": True\r\n",
        "                    }\r\n",
        "                },\r\n",
        "                {\r\n",
        "                    \"name\": \"ownership\",\r\n",
        "                    \"config\": {\r\n",
        "                        \"include_fuzzy_match\": False\r\n",
        "                    }\r\n",
        "                }\r\n",
        "            ],\r\n",
        "            \"dynamic\": [\r\n",
        "                {\r\n",
        "                    \"name\": \"activity\",\r\n",
        "                    \"config\": {\r\n",
        "                        \"include_fuzzy_match\": False\r\n",
        "                    }\r\n",
        "                }\r\n",
        "            ],\r\n",
        "            \"config\": {\r\n",
        "                \"max_path_length\": 5\r\n",
        "            }\r\n",
        "        },\r\n",
        "        \"scoring\": {\r\n",
        "            \"entity\": \"entity\",\r\n",
        "            \"entity_flag\": \"entityReviewFlag\",\r\n",
        "            \"flag_metadata\": \"entityReviewFlag_metadata\",\r\n",
        "            \"predicted_links\": \"macro\",\r\n",
        "            \"config\": {}\r\n",
        "        },\r\n",
        "        \"report\": {\r\n",
        "            \"entity\": \"entity\",\r\n",
        "            \"static\": [\r\n",
        "                {\r\n",
        "                    \"name\": \"contact\",\r\n",
        "                    \"config\": {}\r\n",
        "                },\r\n",
        "                {\r\n",
        "                    \"name\": \"ownership\",\r\n",
        "                    \"config\": {}\r\n",
        "                }\r\n",
        "\r\n",
        "            ],\r\n",
        "            \"dynamic\": [\r\n",
        "                {\r\n",
        "                    \"name\": \"activity\",\r\n",
        "                    \"config\": {}\r\n",
        "                }\r\n",
        "            ],\r\n",
        "            \"other\": [],\r\n",
        "            \"entity_flag\": \"entityReviewFlag\",\r\n",
        "            \"network_score\": \"network_scoring\",\r\n",
        "            \"predicted_links\": \"macro\",\r\n",
        "            \"flag_metadata\": \"entityReviewFlag_metadata\",\r\n",
        "            \"attribute_metadata\": \"attributeDefinition\",\r\n",
        "            \"config\": {\r\n",
        "                \"sync_attributes\": [\r\n",
        "                    \"tender\",\r\n",
        "                    \"buyer\",\r\n",
        "                    \"item\"\r\n",
        "                ],\r\n",
        "                \"async_attributes\": [\r\n",
        "                    \"buyer\",\r\n",
        "                    \"item\"\r\n",
        "                ],\r\n",
        "                \"entity_name_attribute\": \"name\",\r\n",
        "                \"base_url\": \"http://localhost:3000/report/\"\r\n",
        "            }\r\n",
        "        }\r\n",
        "    }\r\n",
        "}"
      ],
      "outputs": [],
      "execution_count": null,
      "metadata": {
        "jupyter": {
          "source_hidden": false,
          "outputs_hidden": false
        },
        "nteract": {
          "transient": {
            "deleting": false
          }
        }
      }
    },
    {
      "cell_type": "markdown",
      "source": [
        "## Pipeline Execution"
      ],
      "metadata": {
        "nteract": {
          "transient": {
            "deleting": false
          }
        }
      }
    },
    {
      "cell_type": "code",
      "source": [
        "pipeline = TransparencyPipeline()\r\n",
        "\r\n",
        "storage_config: Dict[str, str] = pipeline_config.get(\"storage\", dict())\r\n",
        "\r\n",
        "build_container(\r\n",
        "    {\r\n",
        "        ContainerKeys.STEP_CONFIG: step_config,\r\n",
        "        ContainerKeys.PIPELINE_CONFIG: pipeline_config,\r\n",
        "        ContainerKeys.DATA_HANDLER: (\r\n",
        "            DataHandler,\r\n",
        "            DataHandlerModes.from_string(storage_config.get(\"type\", \"\")),\r\n",
        "            storage_config.get(\"root\", \"\"),\r\n",
        "        ),\r\n",
        "    },\r\n",
        "    modules=[\"transparency_engine.pipeline\"],\r\n",
        "    packages=[],\r\n",
        ")"
      ],
      "outputs": [
        {
          "output_type": "display_data",
          "data": {
            "application/vnd.livy.statement-meta+json": {
              "spark_pool": "msrTestCluster",
              "session_id": "30",
              "statement_id": 4,
              "state": "finished",
              "livy_statement_state": "available",
              "queued_time": "2023-05-07T23:54:15.5092315Z",
              "session_start_time": null,
              "execution_start_time": "2023-05-07T23:55:17.4699399Z",
              "execution_finish_time": "2023-05-07T23:55:35.2786719Z",
              "spark_jobs": null,
              "parent_msg_id": "c6222bfb-c3e3-42fc-88f9-1946694c765b"
            },
            "text/plain": "StatementMeta(msrTestCluster, 30, 4, Finished, Available)"
          },
          "metadata": {}
        },
        {
          "output_type": "execute_result",
          "execution_count": 11,
          "data": {
            "text/plain": "<dependency_injector.containers.DynamicContainer at 0x7f80cf7cbcd0>"
          },
          "metadata": {}
        }
      ],
      "execution_count": 17,
      "metadata": {
        "jupyter": {
          "source_hidden": false,
          "outputs_hidden": false
        },
        "nteract": {
          "transient": {
            "deleting": false
          }
        }
      }
    },
    {
      "cell_type": "code",
      "source": [
        "steps = PipelineSteps.from_string_list(pipeline_config.get(\"steps\", []))\r\n",
        "pipeline.run(steps=steps)"
      ],
      "outputs": [],
      "execution_count": null,
      "metadata": {
        "jupyter": {
          "source_hidden": false,
          "outputs_hidden": false
        },
        "nteract": {
          "transient": {
            "deleting": false
          }
        }
      }
    }
  ],
  "metadata": {
    "kernelspec": {
      "name": "synapse_pyspark",
      "language": "Python",
      "display_name": "Synapse PySpark"
    },
    "language_info": {
      "name": "python"
    },
    "kernel_info": {
      "name": "synapse_pyspark"
    },
    "description": null,
    "save_output": true,
    "synapse_widget": {
      "version": "0.1",
      "state": {}
    }
  },
  "nbformat": 4,
  "nbformat_minor": 2
}