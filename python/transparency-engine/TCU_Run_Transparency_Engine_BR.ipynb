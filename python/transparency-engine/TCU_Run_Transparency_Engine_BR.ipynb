{
  "nbformat": 4,
  "nbformat_minor": 2,
  "metadata": {
    "language_info": {
      "name": "python"
    },
    "kernelspec": {
      "name": "synapse_pyspark",
      "display_name": "python"
    },
    "description": null,
    "save_output": true,
    "synapse_widget": {
      "version": "0.1",
      "state": {}
    }
  },
  "cells": [
    {
      "cell_type": "code",
      "execution_count": 1,
      "outputs": [
        {
          "output_type": "display_data",
          "data": {
            "application/vnd.livy.statement-meta+json": {
              "spark_pool": "defaultSpark32",
              "statement_id": -1,
              "statement_ids": [],
              "state": "finished",
              "livy_statement_state": "available",
              "spark_jobs": null,
              "session_id": "0",
              "normalized_state": "finished",
              "queued_time": "2024-08-14T06:07:27.2802342Z",
              "session_start_time": "2024-08-14T06:07:27.340541Z",
              "execution_start_time": "2024-08-14T06:11:13.903421Z",
              "execution_finish_time": "2024-08-14T06:11:13.9037478Z",
              "parent_msg_id": "63cbee52-7c27-4f93-8d27-fef444788072"
            },
            "text/plain": "StatementMeta(defaultSpark32, 0, -1, Finished, Available, Finished)"
          },
          "metadata": {}
        }
      ],
      "metadata": {
        "jupyter": {
          "source_hidden": false,
          "outputs_hidden": false
        },
        "nteract": {
          "transient": {
            "deleting": false
          }
        }
      },
      "source": [
        "%%configure -f\n",
        "{\n",
        "    \"conf\":\n",
        "    {\n",
        "        \"spark.sql.shuffle.partitions\": 64,\n",
        "        \"spark.sql.broadcastTimeout\": 14400,\n",
        "        \"spark.port.maxRetries\": 100,\n",
        "        \"spark.executor.allowSparkContext\": \"true\",\n",
        "        \"spark.executor.memory\":\"16g\",\n",
        "        \"spark.driver.memory\":\"64g\"\n",
        "    }\n",
        "}"
      ]
    },
    {
      "cell_type": "code",
      "execution_count": 2,
      "outputs": [
        {
          "output_type": "display_data",
          "data": {
            "application/vnd.livy.statement-meta+json": {
              "spark_pool": "defaultSpark32",
              "statement_id": 2,
              "statement_ids": [
                2
              ],
              "state": "finished",
              "livy_statement_state": "available",
              "spark_jobs": null,
              "session_id": "0",
              "normalized_state": "finished",
              "queued_time": "2024-08-14T06:07:27.2856218Z",
              "session_start_time": null,
              "execution_start_time": "2024-08-14T06:11:33.5825544Z",
              "execution_finish_time": "2024-08-14T06:11:36.3335599Z",
              "parent_msg_id": "68020134-981a-41e4-ab55-9cf18c52c988"
            },
            "text/plain": "StatementMeta(defaultSpark32, 0, 2, Finished, Available, Finished)"
          },
          "metadata": {}
        },
        {
          "output_type": "stream",
          "name": "stderr",
          "text": [
            "<frozen importlib._bootstrap>:219: RuntimeWarning: scipy._lib.messagestream.MessageStream size changed, may indicate binary incompatibility. Expected 56 from C header, got 64 from PyObject\n"
          ]
        }
      ],
      "metadata": {},
      "source": [
        "# Import from Whl\n",
        "\n",
        "from typing import Dict\n",
        "from transparency_engine.containers import ContainerKeys, build_container\n",
        "from transparency_engine.io.data_handler import DataHandler, DataHandlerModes\n",
        "from transparency_engine.pipeline import TransparencyPipeline\n",
        "from transparency_engine.typing import PipelineSteps\n",
        ""
      ]
    },
    {
      "cell_type": "markdown",
      "metadata": {
        "nteract": {
          "transient": {
            "deleting": false
          }
        }
      },
      "source": [
        "### Manually Update SubFolderpath for This Run"
      ]
    },
    {
      "cell_type": "code",
      "execution_count": 3,
      "outputs": [
        {
          "output_type": "display_data",
          "data": {
            "application/vnd.livy.statement-meta+json": {
              "spark_pool": "defaultSpark32",
              "statement_id": 3,
              "statement_ids": [
                3
              ],
              "state": "finished",
              "livy_statement_state": "available",
              "spark_jobs": null,
              "session_id": "0",
              "normalized_state": "finished",
              "queued_time": "2024-08-14T06:07:27.2867798Z",
              "session_start_time": null,
              "execution_start_time": "2024-08-14T06:11:36.4469853Z",
              "execution_finish_time": "2024-08-14T06:11:36.6247962Z",
              "parent_msg_id": "75b553d9-6eca-487d-92d1-e91f2202c88d"
            },
            "text/plain": "StatementMeta(defaultSpark32, 0, 3, Finished, Available, Finished)"
          },
          "metadata": {}
        }
      ],
      "metadata": {
        "jupyter": {
          "source_hidden": false,
          "outputs_hidden": false
        },
        "nteract": {
          "transient": {
            "deleting": false
          }
        }
      },
      "source": [
        "# MANUALLY UPDATE FOLDERPATH\n",
        "subfolderpath = 'BeneficialOwnershipModel/TCU'\n",
        "datecountry = 'TCU20240806'\n",
        "storagename = 'hmxactaxdlconsmrdatadv'\n",
        ""
      ]
    },
    {
      "cell_type": "markdown",
      "metadata": {
        "nteract": {
          "transient": {
            "deleting": false
          }
        }
      },
      "source": [
        "## Pipeline Configurations"
      ]
    },
    {
      "cell_type": "code",
      "execution_count": 4,
      "outputs": [
        {
          "output_type": "display_data",
          "data": {
            "application/vnd.livy.statement-meta+json": {
              "spark_pool": "defaultSpark32",
              "statement_id": 4,
              "statement_ids": [
                4
              ],
              "state": "finished",
              "livy_statement_state": "available",
              "spark_jobs": null,
              "session_id": "0",
              "normalized_state": "finished",
              "queued_time": "2024-08-14T06:07:27.2880036Z",
              "session_start_time": null,
              "execution_start_time": "2024-08-14T06:11:36.76052Z",
              "execution_finish_time": "2024-08-14T06:11:36.912572Z",
              "parent_msg_id": "52a1193d-cc08-4f81-8459-6d52b38e70e9"
            },
            "text/plain": "StatementMeta(defaultSpark32, 0, 4, Finished, Available, Finished)"
          },
          "metadata": {}
        }
      ],
      "metadata": {
        "jupyter": {
          "source_hidden": false,
          "outputs_hidden": false
        },
        "nteract": {
          "transient": {
            "deleting": false
          }
        }
      },
      "source": [
        "#prep - input name, _fuzzy_match, _ prep\n",
        "#individual_link_prediction  - _links\n",
        "#individual_link_filtering -  _filtered_links, _filtered_graph\n",
        "#macro_link_prediction - _links (macro__links)\n",
        "#macro_link_filtering - _filtered_links (macro_filtered_links)\n",
        "#scoring - entity_scoring, network_scoring\n",
        "#report - entity_activity_report , entity_temporal_activity_report , entity_related_activity_report, entity_related_activity_overall_report, entity_activity_link_report, entity_attributes_report, \n",
        "# entity_graph_report,html_report, report_url\n",
        "pipeline_config = {\n",
        "    \"name\": \"Transparency Engine Pipeline\",\n",
        "    \"description\": \"Transparency Engine using TCU data\",\n",
        "    \"storage\": {\n",
        "        \"type\": \"hive\",\n",
        "        \"root\": f\"BO_{datecountry}\"\n",
        "    },\n",
        "    \"steps\": [\n",
        "        \"prep\",\n",
        "        \"individual_link_prediction\"\n",
        "#        \"individual_link_filtering\"\n",
        "#        \"macro_link_prediction\",\n",
        "#        \"macro_link_filtering\",\n",
        "#        \"scoring\",\n",
        "#        \"report\"\n",
        "    ]\n",
        "}\n",
        ""
      ]
    },
    {
      "cell_type": "code",
      "execution_count": 5,
      "outputs": [
        {
          "output_type": "display_data",
          "data": {
            "application/vnd.livy.statement-meta+json": {
              "spark_pool": "defaultSpark32",
              "statement_id": 5,
              "statement_ids": [
                5
              ],
              "state": "finished",
              "livy_statement_state": "available",
              "spark_jobs": null,
              "session_id": "0",
              "normalized_state": "finished",
              "queued_time": "2024-08-14T06:07:27.289418Z",
              "session_start_time": null,
              "execution_start_time": "2024-08-14T06:11:37.0372832Z",
              "execution_finish_time": "2024-08-14T06:11:37.1977129Z",
              "parent_msg_id": "9e3992fd-de04-414e-9cfb-b1e7677d8869"
            },
            "text/plain": "StatementMeta(defaultSpark32, 0, 5, Finished, Available, Finished)"
          },
          "metadata": {}
        }
      ],
      "metadata": {
        "jupyter": {
          "source_hidden": false,
          "outputs_hidden": false
        },
        "nteract": {
          "transient": {
            "deleting": false
          }
        }
      },
      "source": [
        "step_config = {\n",
        "    \"steps\": {\n",
        "        \"prep\": [\n",
        "            {\n",
        "                \"name\": \"activity\",\n",
        "                \"type\": \"dynamic\",\n",
        "                \"path\": f\"abfss://curated@{storagename}.dfs.core.windows.net/{subfolderpath}/activity.csv\",\n",
        "                \"steps\": [\n",
        "                    \"load\",\n",
        "                    \"preprocess\"\n",
        "                ],\n",
        "                \"config\": {}\n",
        "            },\n",
        "            {\n",
        "                \"name\": \"contact\",\n",
        "                \"type\": \"static\",\n",
        "                \"path\": f\"abfss://curated@{storagename}.dfs.core.windows.net/{subfolderpath}/contact.csv\",\n",
        "                \"steps\": [\n",
        "                    \"load\",  \n",
        "                    \"fuzzy_match\",                  \n",
        "                    \"preprocess\"\n",
        "                ],\n",
        "                \"fuzzy_match_on\": [\n",
        "                    {\n",
        "                        \"name\": \"company_name\",\n",
        "                        \"config\": {\n",
        "                            \"min_similarity\": 0.8\n",
        "                        }\n",
        "                    },\n",
        "                    {\n",
        "                        \"name\": \"address\",\n",
        "                        \"config\": {\n",
        "                            \"min_similarity\": 0.8\n",
        "                        }\n",
        "                    }\n",
        "                ],\n",
        "                \"config\": {}\n",
        "            },\n",
        "             {\n",
        "                \"name\": \"ownership\",\n",
        "                \"type\": \"static\",\n",
        "                \"path\": f\"abfss://curated@{storagename}.dfs.core.windows.net/{subfolderpath}/ownership.csv\",\n",
        "                \"steps\": [\n",
        "                    \"load\",\n",
        "                    \"preprocess\"\n",
        "                ],\n",
        "                \"config\": {}\n",
        "            },\n",
        "            {\n",
        "                \"name\": \"entity\",\n",
        "                \"type\": \"entity\",\n",
        "                \"path\": f\"abfss://curated@{storagename}.dfs.core.windows.net/{subfolderpath}/entityweight.csv\",\n",
        "                \"steps\": [\n",
        "                    \"load\"\n",
        "                ]\n",
        "            },\n",
        "            {\n",
        "                \"name\": \"entityReviewFlag\",\n",
        "                \"type\": \"reviewflag\",\n",
        "                \"path\": f\"abfss://curated@{storagename}.dfs.core.windows.net/{subfolderpath}/redflags.csv\",\n",
        "                \"metadata\": {\n",
        "                    \"type\": \"reviewflagmetadata\",\n",
        "                    \"path\": f\"abfss://curated@{storagename}.dfs.core.windows.net/{subfolderpath}/redflagdefinition.csv\"\n",
        "                },\n",
        "                \"steps\": [\n",
        "                    \"load\",\n",
        "                    \"preprocess\"\n",
        "                ]\n",
        "            },\n",
        "            {\n",
        "                \"name\": \"attributeDefinition\",\n",
        "                \"type\": \"metadata\",\n",
        "                \"path\": f\"abfss://curated@{storagename}.dfs.core.windows.net/{subfolderpath}/attributedefinitions.csv\",\n",
        "                \"steps\": [\n",
        "                    \"load\"\n",
        "                ]\n",
        "            }\n",
        "        ],\n",
        "        \"individual_link_prediction\": {\n",
        "            \"static\": [\n",
        "                {\n",
        "                    \"name\": \"contact\",\n",
        "                    \"config\": {\n",
        "                        \"min_weight\": 0.01,\n",
        "                        \"min_similarity\": 0.01,\n",
        "                        \"direct_link_min_weight\": 0.01\n",
        "                    }\n",
        "                },\n",
        "                {\n",
        "                    \"name\": \"ownership\",\n",
        "                    \"config\": {}\n",
        "                }\n",
        "            ],\n",
        "            \"dynamic\": [\n",
        "                {\n",
        "                    \"name\": \"activity\",\n",
        "                    \"config\": {\n",
        "                        \"min_weight\": 1.0,\n",
        "                        \"sync_min_similarity\": 0.5,\n",
        "                        \"async_min_similarity\": 0.5,\n",
        "                        \"n_connected_components\": 1,\n",
        "                        \"min_component_size\": 1\n",
        "                    }\n",
        "                }\n",
        "            ]\n",
        "        },\n",
        "        \"individual_link_filtering\": {\n",
        "            \"dynamic\": [\n",
        "                {\n",
        "                    \"name\": \"activity\",\n",
        "                    \"config\": {\n",
        "                        \"min_overall_similarity\": 0.0,\n",
        "                        \"min_sync_similarity\": 0.8,\n",
        "                        \"min_async_similarity\": 0.8,\n",
        "                        \"sync_attributes\": [\n",
        "                            \"tender\",\n",
        "                            \"buyer\",\n",
        "                            \"item\"\n",
        "                        ],\n",
        "                        \"async_attributes\": [                            \n",
        "                            \"buyer\",\n",
        "                            \"item\"\n",
        "                        ]\n",
        "                    }\n",
        "                }\n",
        "            ]\n",
        "        },\n",
        "        \"macro_link_prediction\": {\n",
        "            \"name\": \"macro\",\n",
        "            \"inputs\": [\n",
        "                \"activity_filtered_links\",\n",
        "                \"contact_links\",\n",
        "                \"ownership_links\"\n",
        "            ],\n",
        "            \"config\": {\n",
        "                \"min_weight\": 0.1,\n",
        "                \"min_similarity\": 0.1,\n",
        "                \"direct_link_min_weight\": 0.1\n",
        "            }\n",
        "        },\n",
        "        \"macro_link_filtering\": {\n",
        "            \"name\": \"macro\",\n",
        "            \"static\": [\n",
        "                {\n",
        "                    \"name\": \"contact\",\n",
        "                    \"config\": {\n",
        "                        \"include_fuzzy_match\": False\n",
        "                    }\n",
        "                },\n",
        "                {\n",
        "                    \"name\": \"ownership\",\n",
        "                    \"config\": {}\n",
        "                }\n",
        "            ],\n",
        "            \"dynamic\": [\n",
        "                {\n",
        "                    \"name\": \"activity\",\n",
        "                    \"config\": {\n",
        "                        \"include_fuzzy_match\": False\n",
        "                    }\n",
        "                }\n",
        "            ],\n",
        "            \"config\": {\n",
        "                \"max_path_length\": 2\n",
        "            }\n",
        "        },\n",
        "        \"scoring\": {\n",
        "            \"entity\": \"entity\",\n",
        "            \"entity_flag\": \"entityReviewFlag\",\n",
        "            \"flag_metadata\": \"entityReviewFlag_metadata\",\n",
        "            \"predicted_links\": \"macro\",\n",
        "            \"config\": {}\n",
        "        },\n",
        "        \"report\": {\n",
        "            \"entity\": \"entity\",\n",
        "            \"static\": [\n",
        "                {\n",
        "                    \"name\": \"contact\",\n",
        "                    \"config\": {}\n",
        "                },\n",
        "                 {\n",
        "                    \"name\": \"ownership\",\n",
        "                    \"config\": {}\n",
        "                }\n",
        "\n",
        "            ],\n",
        "            \"dynamic\": [\n",
        "                {\n",
        "                    \"name\": \"activity\",\n",
        "                    \"config\": {}\n",
        "                }\n",
        "            ],\n",
        "            \"other\": [],\n",
        "            \"entity_flag\": \"entityReviewFlag\",\n",
        "            \"network_score\": \"network_scoring\",\n",
        "            \"predicted_links\": \"macro\",\n",
        "            \"flag_metadata\": \"entityReviewFlag_metadata\",\n",
        "            \"attribute_metadata\": \"attributeDefinition\",\n",
        "            \"config\": {\n",
        "                \"sync_attributes\": [\n",
        "                    \"tender\",\n",
        "                    \"buyer\",\n",
        "                    \"item\"\n",
        "                ],\n",
        "                \"async_attributes\": [\n",
        "                   \n",
        "                    \"buyer\",\n",
        "                    \"item\"\n",
        "                ],\n",
        "                \"entity_name_attribute\": \"name\",\n",
        "                \"base_url\": \"https://traengine.eastus.cloudapp.azure.com/report/\"\n",
        "            }\n",
        "        }\n",
        "    }\n",
        "}"
      ]
    },
    {
      "cell_type": "markdown",
      "metadata": {
        "nteract": {
          "transient": {
            "deleting": false
          }
        }
      },
      "source": [
        "## Pipeline Execution"
      ]
    },
    {
      "cell_type": "code",
      "execution_count": 6,
      "outputs": [
        {
          "output_type": "display_data",
          "data": {
            "application/vnd.livy.statement-meta+json": {
              "spark_pool": "defaultSpark32",
              "statement_id": 6,
              "statement_ids": [
                6
              ],
              "state": "finished",
              "livy_statement_state": "available",
              "spark_jobs": null,
              "session_id": "0",
              "normalized_state": "finished",
              "queued_time": "2024-08-14T06:07:27.2906509Z",
              "session_start_time": null,
              "execution_start_time": "2024-08-14T06:11:37.3155252Z",
              "execution_finish_time": "2024-08-14T06:11:53.9430919Z",
              "parent_msg_id": "b56e99fc-f19b-4ba0-abc4-c09578432078"
            },
            "text/plain": "StatementMeta(defaultSpark32, 0, 6, Finished, Available, Finished)"
          },
          "metadata": {}
        },
        {
          "output_type": "execute_result",
          "data": {
            "text/plain": "<dependency_injector.containers.DynamicContainer at 0x7fcc3b386be0>"
          },
          "execution_count": 13,
          "metadata": {}
        }
      ],
      "metadata": {
        "jupyter": {
          "source_hidden": false,
          "outputs_hidden": false
        },
        "nteract": {
          "transient": {
            "deleting": false
          }
        }
      },
      "source": [
        "pipeline = TransparencyPipeline()\n",
        "\n",
        "storage_config: Dict[str, str] = pipeline_config.get(\"storage\", dict())\n",
        "\n",
        "build_container(\n",
        "    {\n",
        "        ContainerKeys.STEP_CONFIG: step_config,\n",
        "        ContainerKeys.PIPELINE_CONFIG: pipeline_config,\n",
        "        ContainerKeys.DATA_HANDLER: (\n",
        "            DataHandler,\n",
        "            DataHandlerModes.from_string(storage_config.get(\"type\", \"\")),\n",
        "            storage_config.get(\"root\", \"\"),\n",
        "        ),\n",
        "    },\n",
        "    modules=[\"transparency_engine.pipeline\"],\n",
        "    packages=[],\n",
        ")"
      ]
    },
    {
      "cell_type": "code",
      "execution_count": 7,
      "outputs": [
        {
          "output_type": "display_data",
          "data": {
            "application/vnd.livy.statement-meta+json": {
              "spark_pool": "defaultSpark32",
              "statement_id": 7,
              "statement_ids": [
                7
              ],
              "state": "finished",
              "livy_statement_state": "available",
              "spark_jobs": null,
              "session_id": "0",
              "normalized_state": "finished",
              "queued_time": "2024-08-14T06:07:27.2917072Z",
              "session_start_time": null,
              "execution_start_time": "2024-08-14T06:11:54.0630641Z",
              "execution_finish_time": "2024-08-14T06:25:50.7065182Z",
              "parent_msg_id": "da7f6875-29e2-4910-bc39-5b42759c5d98"
            },
            "text/plain": "StatementMeta(defaultSpark32, 0, 7, Finished, Available, Finished)"
          },
          "metadata": {}
        },
        {
          "output_type": "stream",
          "name": "stderr",
          "text": [
            "/opt/spark/python/lib/pyspark.zip/pyspark/sql/context.py:125: FutureWarning: Deprecated in 3.0.0. Use SparkSession.builder.getOrCreate() instead.\n"
          ]
        },
        {
          "output_type": "stream",
          "name": "stdout",
          "text": [
            "+--------------------+--------------------+------------------+------------+\n|              Source|              Target|        Similarity| AttributeID|\n+--------------------+--------------------+------------------+------------+\n|LWL SOLUCOES INTE...|RD SOLUCOES INTEG...|0.8260869565217391|company_name|\n|FT EMPREENDIMENTO...|SEJA EMPREENDIMEN...|0.8461538461538461|company_name|\n|BH SOLUCOES INTEG...|LWL SOLUCOES INTE...|0.8260869565217391|company_name|\n|  DCG COMERCIAL LTDA|  ILG COMERCIAL LTDA|0.8571428571428571|company_name|\n|BEMM SOLUCOES INT...|M2R SOLUCOES INTE...|0.8260869565217391|company_name|\n+--------------------+--------------------+------------------+------------+\nonly showing top 5 rows\n\n+--------------+---------+------+\n|          Node|Partition|NodeId|\n+--------------+---------+------+\n| 1000823000180| EntityID|     0|\n|10013974000163| EntityID|     1|\n|10014760000101| EntityID|     2|\n|10014999000181| EntityID|     3|\n|10015379000167| EntityID|     4|\n|10015889000134| EntityID|     5|\n|10016141000318| EntityID|     6|\n| 1002047000408| EntityID|     7|\n| 1002047000742| EntityID|     8|\n| 1002812000139| EntityID|     9|\n| 1004619000137| EntityID|    10|\n| 1004749000170| EntityID|    11|\n| 1004788000177| EntityID|    12|\n| 1004795000179| EntityID|    13|\n| 1004900000170| EntityID|    14|\n| 1005762000143| EntityID|    15|\n| 1006157000197| EntityID|    16|\n| 1006441000163| EntityID|    17|\n| 1006533000143| EntityID|    18|\n| 1008092000119| EntityID|    19|\n+--------------+---------+------+\nonly showing top 20 rows\n\n+--------------------+--------------+----------+--------------+----------+------+--------+--------+-----------------+--------------+--------------+\n|        Relationship|        Target|TargetType|        Source|SourceType|Weight|SourceId|TargetId|UnfoldAttributeId|UnfoldSourceId|UnfoldTargetId|\n+--------------------+--------------+----------+--------------+----------+------+--------+--------+-----------------+--------------+--------------+\n|company_share_cap...|37840499000155|  EntityID|11701016000148|  EntityID|   1.0|    2610|   28454|                4|        209070|        234914|\n|company_share_cap...|40573781000128|  EntityID|28718008000107|  EntityID|   1.0|   19274|   30702|                4|        225734|        237162|\n|company_share_cap...|29831942000101|  EntityID|28718008000107|  EntityID|   1.0|   19274|   20403|                4|        225734|        226863|\n|company_share_cap...|36434865000103|  EntityID|18346337000110|  EntityID|   1.0|    9240|   27063|                4|        215700|        233523|\n|company_share_cap...|35371987000135|  EntityID|18695347000161|  EntityID|   1.0|    9551|   26028|                4|        216011|        232488|\n|company_share_cap...|36671518000102|  EntityID|26917959000180|  EntityID|   1.0|   17312|   27277|                4|        223772|        233737|\n|company_share_cap...| 7405594000160|  EntityID|26917959000180|  EntityID|   1.0|   17312|   45969|                4|        223772|        252429|\n|company_share_cap...| 9012638000117|  EntityID|40370331000138|  EntityID|   1.0|   30509|   49684|                4|        236969|        256144|\n|company_share_cap...|49815982000169|  EntityID|47862744000189|  EntityID|   1.0|   37378|   39334|                4|        243838|        245794|\n|company_share_cap...| 9523353000140|  EntityID|11984282000125|  EntityID|   1.0|    2963|   51077|                4|        209423|        257537|\n+--------------------+--------------+----------+--------------+----------+------+--------+--------+-----------------+--------------+--------------+\nonly showing top 10 rows\n\n"
          ]
        },
        {
          "output_type": "error",
          "ename": "MemoryError",
          "evalue": "",
          "traceback": [
            "\u001b[0;31m---------------------------------------------------------------------------\u001b[0m",
            "\u001b[0;31mMemoryError\u001b[0m                               Traceback (most recent call last)",
            "\u001b[0;32m/tmp/ipykernel_8166/1414318425.py\u001b[0m in \u001b[0;36m<module>\u001b[0;34m\u001b[0m\n\u001b[1;32m      1\u001b[0m \u001b[0msteps\u001b[0m \u001b[0;34m=\u001b[0m \u001b[0mPipelineSteps\u001b[0m\u001b[0;34m.\u001b[0m\u001b[0mfrom_string_list\u001b[0m\u001b[0;34m(\u001b[0m\u001b[0mpipeline_config\u001b[0m\u001b[0;34m.\u001b[0m\u001b[0mget\u001b[0m\u001b[0;34m(\u001b[0m\u001b[0;34m\"steps\"\u001b[0m\u001b[0;34m,\u001b[0m \u001b[0;34m[\u001b[0m\u001b[0;34m]\u001b[0m\u001b[0;34m)\u001b[0m\u001b[0;34m)\u001b[0m\u001b[0;34m\u001b[0m\u001b[0;34m\u001b[0m\u001b[0m\n\u001b[0;32m----> 2\u001b[0;31m \u001b[0mpipeline\u001b[0m\u001b[0;34m.\u001b[0m\u001b[0mrun\u001b[0m\u001b[0;34m(\u001b[0m\u001b[0msteps\u001b[0m\u001b[0;34m=\u001b[0m\u001b[0msteps\u001b[0m\u001b[0;34m)\u001b[0m\u001b[0;34m\u001b[0m\u001b[0;34m\u001b[0m\u001b[0m\n\u001b[0m",
            "\u001b[0;32m~/cluster-env/clonedenv/lib/python3.8/site-packages/transparency_engine/pipeline/transparency_pipeline.py\u001b[0m in \u001b[0;36mrun\u001b[0;34m(self, steps)\u001b[0m\n\u001b[1;32m     90\u001b[0m                 \u001b[0mself\u001b[0m\u001b[0;34m.\u001b[0m\u001b[0mdata_prep\u001b[0m\u001b[0;34m(\u001b[0m\u001b[0;34m)\u001b[0m\u001b[0;34m\u001b[0m\u001b[0;34m\u001b[0m\u001b[0m\n\u001b[1;32m     91\u001b[0m             \u001b[0;32melif\u001b[0m \u001b[0mstep\u001b[0m \u001b[0;34m==\u001b[0m \u001b[0mPipelineSteps\u001b[0m\u001b[0;34m.\u001b[0m\u001b[0mIND_LINK_PREDICTION\u001b[0m\u001b[0;34m:\u001b[0m\u001b[0;34m\u001b[0m\u001b[0;34m\u001b[0m\u001b[0m\n\u001b[0;32m---> 92\u001b[0;31m                 \u001b[0mself\u001b[0m\u001b[0;34m.\u001b[0m\u001b[0mindividual_link_prediction\u001b[0m\u001b[0;34m(\u001b[0m\u001b[0;34m)\u001b[0m\u001b[0;34m\u001b[0m\u001b[0;34m\u001b[0m\u001b[0m\n\u001b[0m\u001b[1;32m     93\u001b[0m             \u001b[0;32melif\u001b[0m \u001b[0mstep\u001b[0m \u001b[0;34m==\u001b[0m \u001b[0mPipelineSteps\u001b[0m\u001b[0;34m.\u001b[0m\u001b[0mIND_LINK_FILTERING\u001b[0m\u001b[0;34m:\u001b[0m\u001b[0;34m\u001b[0m\u001b[0;34m\u001b[0m\u001b[0m\n\u001b[1;32m     94\u001b[0m                 \u001b[0mself\u001b[0m\u001b[0;34m.\u001b[0m\u001b[0mindividual_link_filtering\u001b[0m\u001b[0;34m(\u001b[0m\u001b[0;34m)\u001b[0m\u001b[0;34m\u001b[0m\u001b[0;34m\u001b[0m\u001b[0m\n",
            "\u001b[0;32m~/cluster-env/clonedenv/lib/python3.8/site-packages/transparency_engine/pipeline/transparency_pipeline.py\u001b[0m in \u001b[0;36mindividual_link_prediction\u001b[0;34m(self)\u001b[0m\n\u001b[1;32m    183\u001b[0m             \u001b[0mstatic_config\u001b[0m \u001b[0;34m=\u001b[0m \u001b[0mUSEStaticLinkConfig\u001b[0m\u001b[0;34m(\u001b[0m\u001b[0;34m**\u001b[0m\u001b[0mconfig_dict\u001b[0m\u001b[0;34m)\u001b[0m\u001b[0;34m\u001b[0m\u001b[0;34m\u001b[0m\u001b[0m\n\u001b[1;32m    184\u001b[0m             \u001b[0mlogger\u001b[0m\u001b[0;34m.\u001b[0m\u001b[0minfo\u001b[0m\u001b[0;34m(\u001b[0m\u001b[0mstatic_config\u001b[0m\u001b[0;34m)\u001b[0m\u001b[0;34m\u001b[0m\u001b[0;34m\u001b[0m\u001b[0m\n\u001b[0;32m--> 185\u001b[0;31m             links_df = USEStaticLinkEstimator(static_config, input_name).predict(\n\u001b[0m\u001b[1;32m    186\u001b[0m                 \u001b[0mprep_df\u001b[0m\u001b[0;34m\u001b[0m\u001b[0;34m\u001b[0m\u001b[0m\n\u001b[1;32m    187\u001b[0m             )\n",
            "\u001b[0;32m~/cluster-env/clonedenv/lib/python3.8/site-packages/transparency_engine/analysis/link_inference/static_link_estimator.py\u001b[0m in \u001b[0;36mpredict\u001b[0;34m(self, input_data)\u001b[0m\n\u001b[1;32m    133\u001b[0m         \u001b[0mlogger\u001b[0m\u001b[0;34m.\u001b[0m\u001b[0minfo\u001b[0m\u001b[0;34m(\u001b[0m\u001b[0;34mf\"filtered edge data count: {filtered_input_data.count()}\"\u001b[0m\u001b[0;34m)\u001b[0m\u001b[0;34m\u001b[0m\u001b[0;34m\u001b[0m\u001b[0m\n\u001b[1;32m    134\u001b[0m \u001b[0;34m\u001b[0m\u001b[0m\n\u001b[0;32m--> 135\u001b[0;31m         unfolded_graph = UnfoldedGraph().create_graph(\n\u001b[0m\u001b[1;32m    136\u001b[0m             \u001b[0mgraph_data\u001b[0m\u001b[0;34m=\u001b[0m\u001b[0mfiltered_input_data\u001b[0m\u001b[0;34m,\u001b[0m\u001b[0;34m\u001b[0m\u001b[0;34m\u001b[0m\u001b[0m\n\u001b[1;32m    137\u001b[0m             \u001b[0madd_self_loop\u001b[0m\u001b[0;34m=\u001b[0m\u001b[0mself\u001b[0m\u001b[0;34m.\u001b[0m\u001b[0mconfigs\u001b[0m\u001b[0;34m.\u001b[0m\u001b[0madd_self_loop\u001b[0m\u001b[0;34m,\u001b[0m\u001b[0;34m\u001b[0m\u001b[0;34m\u001b[0m\u001b[0m\n",
            "\u001b[0;32m~/cluster-env/clonedenv/lib/python3.8/site-packages/transparency_engine/modules/graph/embed/use_graph.py\u001b[0m in \u001b[0;36mcreate_graph\u001b[0;34m(self, graph_data, add_self_loop, source_col, target_col, source_type_col, target_type_col, unfold_attribute_col, weight_col, **kwargs)\u001b[0m\n\u001b[1;32m    251\u001b[0m         \u001b[0mcolumns\u001b[0m \u001b[0;34m=\u001b[0m \u001b[0;34m[\u001b[0m\u001b[0;34m]\u001b[0m\u001b[0;34m\u001b[0m\u001b[0;34m\u001b[0m\u001b[0m\n\u001b[1;32m    252\u001b[0m         \u001b[0mweights\u001b[0m \u001b[0;34m=\u001b[0m \u001b[0;34m[\u001b[0m\u001b[0;34m]\u001b[0m\u001b[0;34m\u001b[0m\u001b[0;34m\u001b[0m\u001b[0m\n\u001b[0;32m--> 253\u001b[0;31m         \u001b[0;32mfor\u001b[0m \u001b[0mrecord\u001b[0m \u001b[0;32min\u001b[0m \u001b[0mgraph_data\u001b[0m\u001b[0;34m.\u001b[0m\u001b[0mcollect\u001b[0m\u001b[0;34m(\u001b[0m\u001b[0;34m)\u001b[0m\u001b[0;34m:\u001b[0m\u001b[0;34m\u001b[0m\u001b[0;34m\u001b[0m\u001b[0m\n\u001b[0m\u001b[1;32m    254\u001b[0m             \u001b[0mrows\u001b[0m\u001b[0;34m.\u001b[0m\u001b[0mappend\u001b[0m\u001b[0;34m(\u001b[0m\u001b[0mrecord\u001b[0m\u001b[0;34m[\u001b[0m\u001b[0;34m\"RowId\"\u001b[0m\u001b[0;34m]\u001b[0m\u001b[0;34m)\u001b[0m\u001b[0;34m\u001b[0m\u001b[0;34m\u001b[0m\u001b[0m\n\u001b[1;32m    255\u001b[0m             \u001b[0mcolumns\u001b[0m\u001b[0;34m.\u001b[0m\u001b[0mappend\u001b[0m\u001b[0;34m(\u001b[0m\u001b[0mrecord\u001b[0m\u001b[0;34m[\u001b[0m\u001b[0;34m\"ColumnId\"\u001b[0m\u001b[0;34m]\u001b[0m\u001b[0;34m)\u001b[0m\u001b[0;34m\u001b[0m\u001b[0;34m\u001b[0m\u001b[0m\n",
            "\u001b[0;32m/opt/spark/python/lib/pyspark.zip/pyspark/sql/dataframe.py\u001b[0m in \u001b[0;36mcollect\u001b[0;34m(self)\u001b[0m\n\u001b[1;32m    692\u001b[0m         \u001b[0;32mwith\u001b[0m \u001b[0mSCCallSiteSync\u001b[0m\u001b[0;34m(\u001b[0m\u001b[0mself\u001b[0m\u001b[0;34m.\u001b[0m\u001b[0m_sc\u001b[0m\u001b[0;34m)\u001b[0m \u001b[0;32mas\u001b[0m \u001b[0mcss\u001b[0m\u001b[0;34m:\u001b[0m\u001b[0;34m\u001b[0m\u001b[0;34m\u001b[0m\u001b[0m\n\u001b[1;32m    693\u001b[0m             \u001b[0msock_info\u001b[0m \u001b[0;34m=\u001b[0m \u001b[0mself\u001b[0m\u001b[0;34m.\u001b[0m\u001b[0m_jdf\u001b[0m\u001b[0;34m.\u001b[0m\u001b[0mcollectToPython\u001b[0m\u001b[0;34m(\u001b[0m\u001b[0;34m)\u001b[0m\u001b[0;34m\u001b[0m\u001b[0;34m\u001b[0m\u001b[0m\n\u001b[0;32m--> 694\u001b[0;31m         \u001b[0;32mreturn\u001b[0m \u001b[0mlist\u001b[0m\u001b[0;34m(\u001b[0m\u001b[0m_load_from_socket\u001b[0m\u001b[0;34m(\u001b[0m\u001b[0msock_info\u001b[0m\u001b[0;34m,\u001b[0m \u001b[0mBatchedSerializer\u001b[0m\u001b[0;34m(\u001b[0m\u001b[0mPickleSerializer\u001b[0m\u001b[0;34m(\u001b[0m\u001b[0;34m)\u001b[0m\u001b[0;34m)\u001b[0m\u001b[0;34m)\u001b[0m\u001b[0;34m)\u001b[0m\u001b[0;34m\u001b[0m\u001b[0;34m\u001b[0m\u001b[0m\n\u001b[0m\u001b[1;32m    695\u001b[0m \u001b[0;34m\u001b[0m\u001b[0m\n\u001b[1;32m    696\u001b[0m     \u001b[0;32mdef\u001b[0m \u001b[0mtoLocalIterator\u001b[0m\u001b[0;34m(\u001b[0m\u001b[0mself\u001b[0m\u001b[0;34m,\u001b[0m \u001b[0mprefetchPartitions\u001b[0m\u001b[0;34m=\u001b[0m\u001b[0;32mFalse\u001b[0m\u001b[0;34m)\u001b[0m\u001b[0;34m:\u001b[0m\u001b[0;34m\u001b[0m\u001b[0;34m\u001b[0m\u001b[0m\n",
            "\u001b[0;32m/opt/spark/python/lib/pyspark.zip/pyspark/serializers.py\u001b[0m in \u001b[0;36mload_stream\u001b[0;34m(self, stream)\u001b[0m\n\u001b[1;32m    136\u001b[0m         \u001b[0;32mwhile\u001b[0m \u001b[0;32mTrue\u001b[0m\u001b[0;34m:\u001b[0m\u001b[0;34m\u001b[0m\u001b[0;34m\u001b[0m\u001b[0m\n\u001b[1;32m    137\u001b[0m             \u001b[0;32mtry\u001b[0m\u001b[0;34m:\u001b[0m\u001b[0;34m\u001b[0m\u001b[0;34m\u001b[0m\u001b[0m\n\u001b[0;32m--> 138\u001b[0;31m                 \u001b[0;32myield\u001b[0m \u001b[0mself\u001b[0m\u001b[0;34m.\u001b[0m\u001b[0m_read_with_length\u001b[0m\u001b[0;34m(\u001b[0m\u001b[0mstream\u001b[0m\u001b[0;34m)\u001b[0m\u001b[0;34m\u001b[0m\u001b[0;34m\u001b[0m\u001b[0m\n\u001b[0m\u001b[1;32m    139\u001b[0m             \u001b[0;32mexcept\u001b[0m \u001b[0mEOFError\u001b[0m\u001b[0;34m:\u001b[0m\u001b[0;34m\u001b[0m\u001b[0;34m\u001b[0m\u001b[0m\n\u001b[1;32m    140\u001b[0m                 \u001b[0;32mreturn\u001b[0m\u001b[0;34m\u001b[0m\u001b[0;34m\u001b[0m\u001b[0m\n",
            "\u001b[0;32m/opt/spark/python/lib/pyspark.zip/pyspark/serializers.py\u001b[0m in \u001b[0;36m_read_with_length\u001b[0;34m(self, stream)\u001b[0m\n\u001b[1;32m    158\u001b[0m         \u001b[0;32mif\u001b[0m \u001b[0mlen\u001b[0m\u001b[0;34m(\u001b[0m\u001b[0mobj\u001b[0m\u001b[0;34m)\u001b[0m \u001b[0;34m<\u001b[0m \u001b[0mlength\u001b[0m\u001b[0;34m:\u001b[0m\u001b[0;34m\u001b[0m\u001b[0;34m\u001b[0m\u001b[0m\n\u001b[1;32m    159\u001b[0m             \u001b[0;32mraise\u001b[0m \u001b[0mEOFError\u001b[0m\u001b[0;34m\u001b[0m\u001b[0;34m\u001b[0m\u001b[0m\n\u001b[0;32m--> 160\u001b[0;31m         \u001b[0;32mreturn\u001b[0m \u001b[0mself\u001b[0m\u001b[0;34m.\u001b[0m\u001b[0mloads\u001b[0m\u001b[0;34m(\u001b[0m\u001b[0mobj\u001b[0m\u001b[0;34m)\u001b[0m\u001b[0;34m\u001b[0m\u001b[0;34m\u001b[0m\u001b[0m\n\u001b[0m\u001b[1;32m    161\u001b[0m \u001b[0;34m\u001b[0m\u001b[0m\n\u001b[1;32m    162\u001b[0m     \u001b[0;32mdef\u001b[0m \u001b[0mdumps\u001b[0m\u001b[0;34m(\u001b[0m\u001b[0mself\u001b[0m\u001b[0;34m,\u001b[0m \u001b[0mobj\u001b[0m\u001b[0;34m)\u001b[0m\u001b[0;34m:\u001b[0m\u001b[0;34m\u001b[0m\u001b[0;34m\u001b[0m\u001b[0m\n",
            "\u001b[0;32m/opt/spark/python/lib/pyspark.zip/pyspark/serializers.py\u001b[0m in \u001b[0;36mloads\u001b[0;34m(self, obj, encoding)\u001b[0m\n\u001b[1;32m    428\u001b[0m \u001b[0;34m\u001b[0m\u001b[0m\n\u001b[1;32m    429\u001b[0m     \u001b[0;32mdef\u001b[0m \u001b[0mloads\u001b[0m\u001b[0;34m(\u001b[0m\u001b[0mself\u001b[0m\u001b[0;34m,\u001b[0m \u001b[0mobj\u001b[0m\u001b[0;34m,\u001b[0m \u001b[0mencoding\u001b[0m\u001b[0;34m=\u001b[0m\u001b[0;34m\"bytes\"\u001b[0m\u001b[0;34m)\u001b[0m\u001b[0;34m:\u001b[0m\u001b[0;34m\u001b[0m\u001b[0;34m\u001b[0m\u001b[0m\n\u001b[0;32m--> 430\u001b[0;31m         \u001b[0;32mreturn\u001b[0m \u001b[0mpickle\u001b[0m\u001b[0;34m.\u001b[0m\u001b[0mloads\u001b[0m\u001b[0;34m(\u001b[0m\u001b[0mobj\u001b[0m\u001b[0;34m,\u001b[0m \u001b[0mencoding\u001b[0m\u001b[0;34m=\u001b[0m\u001b[0mencoding\u001b[0m\u001b[0;34m)\u001b[0m\u001b[0;34m\u001b[0m\u001b[0;34m\u001b[0m\u001b[0m\n\u001b[0m\u001b[1;32m    431\u001b[0m \u001b[0;34m\u001b[0m\u001b[0m\n\u001b[1;32m    432\u001b[0m \u001b[0;34m\u001b[0m\u001b[0m\n",
            "\u001b[0;31mMemoryError\u001b[0m: "
          ]
        }
      ],
      "metadata": {
        "jupyter": {
          "source_hidden": false,
          "outputs_hidden": false
        },
        "nteract": {
          "transient": {
            "deleting": false
          }
        }
      },
      "source": [
        "steps = PipelineSteps.from_string_list(pipeline_config.get(\"steps\", []))\n",
        "pipeline.run(steps=steps)"
      ]
    }
  ]
}