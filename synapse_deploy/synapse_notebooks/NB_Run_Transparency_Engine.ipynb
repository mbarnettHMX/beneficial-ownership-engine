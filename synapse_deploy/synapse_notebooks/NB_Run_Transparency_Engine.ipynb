{
  "nbformat": 4,
  "nbformat_minor": 2,
  "cells": [
    {
      "cell_type": "code",
      "execution_count": 13,
      "outputs": [],
      "metadata": {
        "jupyter": {
          "source_hidden": false,
          "outputs_hidden": false
        },
        "nteract": {
          "transient": {
            "deleting": false
          }
        }
      },
      "source": [
        "%%configure -f\r\n",
        "{\r\n",
        "    \"conf\":\r\n",
        "    {\r\n",
        "        \"spark.sql.shuffle.partitions\": 64,\r\n",
        "        \"spark.sql.broadcastTimeout\": 14400,\r\n",
        "        \"spark.port.maxRetries\": 100,\r\n",
        "        \"spark.executor.allowSparkContext\": \"true\"\r\n",
        "\r\n",
        "    }\r\n",
        "}"
      ]
    },
    {
      "cell_type": "code",
      "execution_count": 14,
      "outputs": [],
      "metadata": {},
      "source": [
        "# Import from Whl\r\n",
        "\r\n",
        "from typing import Dict\r\n",
        "from transparency_engine.containers import ContainerKeys, build_container\r\n",
        "from transparency_engine.io.data_handler import DataHandler, DataHandlerModes\r\n",
        "from transparency_engine.pipeline import TransparencyPipeline\r\n",
        "from transparency_engine.typing import PipelineSteps\r\n",
        ""
      ]
    },
    {
      "cell_type": "markdown",
      "metadata": {
        "nteract": {
          "transient": {
            "deleting": false
          }
        }
      },
      "source": [
        "### Manually Update SubFolderpath for This Run"
      ]
    },
    {
      "cell_type": "code",
      "execution_count": null,
      "outputs": [],
      "metadata": {
        "jupyter": {
          "source_hidden": false,
          "outputs_hidden": false
        },
        "nteract": {
          "transient": {
            "deleting": false
          }
        }
      },
      "source": [
        "# MANUALLY UPDATE FOLDERPATH\r\n",
        "subfolderpath = 'BeneficialOwnership/2023-06-12'\r\n",
        ""
      ]
    },
    {
      "cell_type": "markdown",
      "metadata": {
        "nteract": {
          "transient": {
            "deleting": false
          }
        }
      },
      "source": [
        "## Pipeline Configurations"
      ]
    },
    {
      "cell_type": "code",
      "execution_count": 15,
      "outputs": [],
      "metadata": {
        "jupyter": {
          "source_hidden": false,
          "outputs_hidden": false
        },
        "nteract": {
          "transient": {
            "deleting": false
          }
        }
      },
      "source": [
        "pipeline_config = {\r\n",
        "    \"name\": \"Transparency Engine Pipeline\",\r\n",
        "    \"description\": \"Transparency Engine using open or customer data\",\r\n",
        "    \"storage\": {\r\n",
        "        \"type\": \"hive\",\r\n",
        "        \"root\": f\"BeneficialOwnership_{date}\"\r\n",
        "    },\r\n",
        "    \"steps\": [\r\n",
        "        \"prep\",\r\n",
        "        \"individual_link_prediction\",\r\n",
        "        \"individual_link_filtering\",\r\n",
        "        \"macro_link_prediction\",\r\n",
        "        \"macro_link_filtering\",\r\n",
        "        \"scoring\",\r\n",
        "        \"report\"\r\n",
        "    ]\r\n",
        "}\r\n",
        ""
      ]
    },
    {
      "cell_type": "code",
      "execution_count": null,
      "outputs": [],
      "metadata": {
        "jupyter": {
          "source_hidden": false,
          "outputs_hidden": false
        },
        "nteract": {
          "transient": {
            "deleting": false
          }
        }
      },
      "source": [
        "step_config = {\r\n",
        "    \"steps\": {\r\n",
        "        \"prep\": [\r\n",
        "            {\r\n",
        "                \"name\": \"activity\",\r\n",
        "                \"type\": \"dynamic\",\r\n",
        "                \"path\": f\"abfss://curated@storageAccountName.dfs.core.windows.net/{subfolderpath}/activity.csv\",\r\n",
        "                \"steps\": [\r\n",
        "                    \"load\",\r\n",
        "                    \"preprocess\"\r\n",
        "                ],\r\n",
        "                \"config\": {}\r\n",
        "            },\r\n",
        "            {\r\n",
        "                \"name\": \"contact\",\r\n",
        "                \"type\": \"static\",\r\n",
        "                \"path\": f\"abfss://curated@storageAccountName.dfs.core.windows.net/{subfolderpath}/contact.csv\",\r\n",
        "                \"steps\": [\r\n",
        "                    \"load\",\r\n",
        "                    \"fuzzy_match\",\r\n",
        "                    \"preprocess\"\r\n",
        "                ],\r\n",
        "                \"fuzzy_match_on\": [\r\n",
        "                    {\r\n",
        "                        \"name\": \"name\",\r\n",
        "                        \"config\": {\r\n",
        "                            \"min_similarity\": 0.9\r\n",
        "                        }\r\n",
        "                    },\r\n",
        "                    {\r\n",
        "                        \"name\": \"address\",\r\n",
        "                        \"config\": {\r\n",
        "                            \"min_similarity\": 0.9\r\n",
        "                        }\r\n",
        "                    }\r\n",
        "                ],\r\n",
        "                \"config\": {}\r\n",
        "            },\r\n",
        "            {\r\n",
        "                \"name\": \"ownership\",\r\n",
        "                \"type\": \"static\",\r\n",
        "                \"path\": f\"abfss://curated@storageAccountName.dfs.core.windows.net/{subfolderpath}/ownership.csv\",\r\n",
        "                \"steps\": [\r\n",
        "                    \"load\",\r\n",
        "                    \"preprocess\"\r\n",
        "                ],\r\n",
        "                \"config\": {}\r\n",
        "            },\r\n",
        "            {\r\n",
        "                \"name\": \"entity\",\r\n",
        "                \"type\": \"entity\",\r\n",
        "                \"path\": f\"abfss://curated@storageAccountName.dfs.core.windows.net/{subfolderpath}/entityweight.csv\",\r\n",
        "                \"steps\": [\r\n",
        "                    \"load\"\r\n",
        "                ]\r\n",
        "            },\r\n",
        "            {\r\n",
        "                \"name\": \"entityReviewFlag\",\r\n",
        "                \"type\": \"reviewflag\",\r\n",
        "                \"path\": f\"abfss://curated@storageAccountName.dfs.core.windows.net/{subfolderpath}/entityredflag.csv\",\r\n",
        "                \"metadata\": {\r\n",
        "                    \"type\": \"reviewflagmetadata\",\r\n",
        "                    \"path\": f\"abfss://curated@storageAccountName.dfs.core.windows.net/{subfolderpath}/redflagdefinition.csv\"\r\n",
        "                },\r\n",
        "                \"steps\": [\r\n",
        "                    \"load\",\r\n",
        "                    \"preprocess\"\r\n",
        "                ]\r\n",
        "            },\r\n",
        "            {\r\n",
        "                \"name\": \"attributeDefinition\",\r\n",
        "                \"type\": \"metadata\",\r\n",
        "                \"path\": f\"abfss://curated@storageAccountName.dfs.core.windows.net/{subfolderpath}/attributedefinition.csv\",\r\n",
        "                \"steps\": [\r\n",
        "                    \"load\"\r\n",
        "                ]\r\n",
        "            }\r\n",
        "        ],\r\n",
        "        \"individual_link_prediction\": {\r\n",
        "            \"static\": [\r\n",
        "                {\r\n",
        "                    \"name\": \"contact\",\r\n",
        "                    \"config\": {\r\n",
        "                        \"min_weight\": 0.01,\r\n",
        "                        \"min_similarity\": 0.01,\r\n",
        "                        \"direct_link_min_weight\": 0.01\r\n",
        "                    }\r\n",
        "                },\r\n",
        "                {\r\n",
        "                    \"name\": \"ownership\",\r\n",
        "                    \"config\": {\r\n",
        "                        \"min_weight\": 0.01,\r\n",
        "                        \"min_similarity\": 0.01,\r\n",
        "                        \"direct_link_min_weight\": 0.01\r\n",
        "                    }\r\n",
        "                }\r\n",
        "            ],\r\n",
        "            \"dynamic\": [\r\n",
        "                {\r\n",
        "                    \"name\": \"activity\",\r\n",
        "                    \"config\": {\r\n",
        "                        \"min_weight\": 1.0,\r\n",
        "                        \"sync_min_similarity\": 0.5,\r\n",
        "                        \"async_min_similarity\": 0.5,\r\n",
        "                        \"n_connected_components\": 100,\r\n",
        "                        \"min_component_size\": 5\r\n",
        "                    }\r\n",
        "                }\r\n",
        "            ]\r\n",
        "        },\r\n",
        "        \"individual_link_filtering\": {\r\n",
        "            \"dynamic\": [\r\n",
        "                {\r\n",
        "                    \"name\": \"activity\",\r\n",
        "                    \"config\": {\r\n",
        "                        \"min_overall_similarity\": 0.0,\r\n",
        "                        \"min_sync_similarity\": 0.8,\r\n",
        "                        \"min_async_similarity\": 0.8,\r\n",
        "                        \"sync_attributes\": [\r\n",
        "                            \"tender\",\r\n",
        "                            \"buyer\",\r\n",
        "                            \"item\"\r\n",
        "                        ],\r\n",
        "                        \"async_attributes\": [\r\n",
        "                            \"buyer\",\r\n",
        "                            \"item\"\r\n",
        "                        ]\r\n",
        "                    }\r\n",
        "                }\r\n",
        "            ]\r\n",
        "        },\r\n",
        "        \"macro_link_prediction\": {\r\n",
        "            \"name\": \"macro\",\r\n",
        "            \"inputs\": [\r\n",
        "                \"activity_filtered_links\",\r\n",
        "                \"contact_links\",\r\n",
        "                \"ownership_links\"\r\n",
        "            ],\r\n",
        "            \"config\": {\r\n",
        "                \"min_weight\": 0.1,\r\n",
        "                \"min_similarity\": 0.1,\r\n",
        "                \"direct_link_min_weight\": 0.1\r\n",
        "            }\r\n",
        "        },\r\n",
        "        \"macro_link_filtering\": {\r\n",
        "            \"name\": \"macro\",\r\n",
        "            \"static\": [\r\n",
        "                {\r\n",
        "                    \"name\": \"contact\",\r\n",
        "                    \"config\": {\r\n",
        "                        \"include_fuzzy_match\": True\r\n",
        "                    }\r\n",
        "                },\r\n",
        "                {\r\n",
        "                    \"name\": \"ownership\",\r\n",
        "                    \"config\": {\r\n",
        "                        \"include_fuzzy_match\": False\r\n",
        "                    }\r\n",
        "                }\r\n",
        "            ],\r\n",
        "            \"dynamic\": [\r\n",
        "                {\r\n",
        "                    \"name\": \"activity\",\r\n",
        "                    \"config\": {\r\n",
        "                        \"include_fuzzy_match\": False\r\n",
        "                    }\r\n",
        "                }\r\n",
        "            ],\r\n",
        "            \"config\": {\r\n",
        "                \"max_path_length\": 5\r\n",
        "            }\r\n",
        "        },\r\n",
        "        \"scoring\": {\r\n",
        "            \"entity\": \"entity\",\r\n",
        "            \"entity_flag\": \"entityReviewFlag\",\r\n",
        "            \"flag_metadata\": \"entityReviewFlag_metadata\",\r\n",
        "            \"predicted_links\": \"macro\",\r\n",
        "            \"config\": {}\r\n",
        "        },\r\n",
        "        \"report\": {\r\n",
        "            \"entity\": \"entity\",\r\n",
        "            \"static\": [\r\n",
        "                {\r\n",
        "                    \"name\": \"contact\",\r\n",
        "                    \"config\": {}\r\n",
        "                },\r\n",
        "                {\r\n",
        "                    \"name\": \"ownership\",\r\n",
        "                    \"config\": {}\r\n",
        "                }\r\n",
        "\r\n",
        "            ],\r\n",
        "            \"dynamic\": [\r\n",
        "                {\r\n",
        "                    \"name\": \"activity\",\r\n",
        "                    \"config\": {}\r\n",
        "                }\r\n",
        "            ],\r\n",
        "            \"other\": [],\r\n",
        "            \"entity_flag\": \"entityReviewFlag\",\r\n",
        "            \"network_score\": \"network_scoring\",\r\n",
        "            \"predicted_links\": \"macro\",\r\n",
        "            \"flag_metadata\": \"entityReviewFlag_metadata\",\r\n",
        "            \"attribute_metadata\": \"attributeDefinition\",\r\n",
        "            \"config\": {\r\n",
        "                \"sync_attributes\": [\r\n",
        "                    \"tender\",\r\n",
        "                    \"buyer\",\r\n",
        "                    \"item\"\r\n",
        "                ],\r\n",
        "                \"async_attributes\": [\r\n",
        "                    \"buyer\",\r\n",
        "                    \"item\"\r\n",
        "                ],\r\n",
        "                \"entity_name_attribute\": \"name\",\r\n",
        "                \"base_url\": \"http://localhost:3000/report/\"\r\n",
        "            }\r\n",
        "        }\r\n",
        "    }\r\n",
        "}"
      ]
    },
    {
      "cell_type": "markdown",
      "metadata": {
        "nteract": {
          "transient": {
            "deleting": false
          }
        }
      },
      "source": [
        "## Pipeline Execution"
      ]
    },
    {
      "cell_type": "code",
      "execution_count": 17,
      "outputs": [],
      "metadata": {
        "jupyter": {
          "source_hidden": false,
          "outputs_hidden": false
        },
        "nteract": {
          "transient": {
            "deleting": false
          }
        }
      },
      "source": [
        "pipeline = TransparencyPipeline()\r\n",
        "\r\n",
        "storage_config: Dict[str, str] = pipeline_config.get(\"storage\", dict())\r\n",
        "\r\n",
        "build_container(\r\n",
        "    {\r\n",
        "        ContainerKeys.STEP_CONFIG: step_config,\r\n",
        "        ContainerKeys.PIPELINE_CONFIG: pipeline_config,\r\n",
        "        ContainerKeys.DATA_HANDLER: (\r\n",
        "            DataHandler,\r\n",
        "            DataHandlerModes.from_string(storage_config.get(\"type\", \"\")),\r\n",
        "            storage_config.get(\"root\", \"\"),\r\n",
        "        ),\r\n",
        "    },\r\n",
        "    modules=[\"transparency_engine.pipeline\"],\r\n",
        "    packages=[],\r\n",
        ")"
      ]
    },
    {
      "cell_type": "code",
      "execution_count": null,
      "outputs": [],
      "metadata": {
        "jupyter": {
          "source_hidden": false,
          "outputs_hidden": false
        },
        "nteract": {
          "transient": {
            "deleting": false
          }
        }
      },
      "source": [
        "steps = PipelineSteps.from_string_list(pipeline_config.get(\"steps\", []))\r\n",
        "pipeline.run(steps=steps)"
      ]
    }
  ],
  "metadata": {
    "description": null,
    "save_output": true,
    "kernelspec": {
      "name": "synapse_pyspark",
      "display_name": "Synapse PySpark"
    },
    "language_info": {
      "name": "python"
    }
  }
}